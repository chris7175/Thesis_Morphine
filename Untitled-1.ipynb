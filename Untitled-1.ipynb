{
 "cells": [
  {
   "cell_type": "markdown",
   "metadata": {},
   "source": [
    "# <img style=\"float: left; padding-right: 10px; width: 45px\" src=\"https://raw.githubusercontent.com/Harvard-IACS/2018-CS109A/master/content/styles/iacs.png\"> CS109B Data Science 2: <br>Advanced Topics in Data Science\n",
    "\n",
    "## Homework 6 - Language Modelling and Text Classification\n",
    "\n",
    "**Harvard University**<br/>\n",
    "**Spring 2021**<br/>\n",
    "**Instructors**: Mark Glickman, Pavlos Protopapas, and Chris Tanner <br/>\n",
    "**Release Date**: March 24, 2021<br/>\n",
    "**Due Date**: <font color=\"red\">April 7 (11:59pm EST), 2021</font><br/>\n",
    "<hr style=\"height:2pt\">"
   ]
  },
  {
   "cell_type": "code",
   "execution_count": 1,
   "metadata": {},
   "outputs": [
    {
     "data": {
      "text/html": [
       "<style>\n",
       "blockquote { background: #AEDE94; }\n",
       "h1 { \n",
       "    padding-top: 25px;\n",
       "    padding-bottom: 25px;\n",
       "    text-align: left; \n",
       "    padding-left: 10px;\n",
       "    background-color: #DDDDDD; \n",
       "    color: black;\n",
       "}\n",
       "h2 { \n",
       "    padding-top: 10px;\n",
       "    padding-bottom: 10px;\n",
       "    text-align: left; \n",
       "    padding-left: 5px;\n",
       "    background-color: #EEEEEE; \n",
       "    color: black;\n",
       "}\n",
       "\n",
       "div.exercise {\n",
       "\tbackground-color: #ffcccc;\n",
       "\tborder-color: #E9967A; \t\n",
       "\tborder-left: 5px solid #800080; \n",
       "\tpadding: 0.5em;\n",
       "}\n",
       "\n",
       "div.exercise-r {\n",
       "\tbackground-color: #fce8e8;\n",
       "\tborder-color: #E9967A; \t\n",
       "\tborder-left: 5px solid #800080; \n",
       "\tpadding: 0.5em;\n",
       "}\n",
       "\n",
       "\n",
       "span.sub-q {\n",
       "\tfont-weight: bold;\n",
       "}\n",
       "div.theme {\n",
       "\tbackground-color: #DDDDDD;\n",
       "\tborder-color: #E9967A; \t\n",
       "\tborder-left: 5px solid #800080; \n",
       "\tpadding: 0.5em;\n",
       "\tfont-size: 18pt;\n",
       "}\n",
       "div.gc { \n",
       "\tbackground-color: #AEDE94;\n",
       "\tborder-color: #E9967A; \t \n",
       "\tborder-left: 5px solid #800080; \n",
       "\tpadding: 0.5em;\n",
       "\tfont-size: 12pt;\n",
       "}\n",
       "p.q1 { \n",
       "    padding-top: 5px;\n",
       "    padding-bottom: 5px;\n",
       "    text-align: left; \n",
       "    padding-left: 5px;\n",
       "    background-color: #EEEEEE; \n",
       "    color: black;\n",
       "}\n",
       "header {\n",
       "   padding-top: 35px;\n",
       "    padding-bottom: 35px;\n",
       "    text-align: left; \n",
       "    padding-left: 10px;\n",
       "    background-color: #DDDDDD; \n",
       "    color: black;\n",
       "}\n",
       "</style>\n",
       "\n"
      ],
      "text/plain": [
       "<IPython.core.display.HTML object>"
      ]
     },
     "execution_count": 1,
     "metadata": {},
     "output_type": "execute_result"
    }
   ],
   "source": [
    "## RUN THIS CELL TO GET THE RIGHT FORMATTING \n",
    "import requests\n",
    "from IPython.core.display import HTML\n",
    "styles = requests.get(\n",
    "    \"https://raw.githubusercontent.com/Harvard-IACS/2018-CS109A/master/\"\n",
    "    \"content/styles/cs109.css\"\n",
    ").text\n",
    "\n",
    "HTML(styles)"
   ]
  },
  {
   "cell_type": "markdown",
   "metadata": {},
   "source": [
    "<a id=\"overview\"></a>\n",
    "    \n",
    "# Overview \n",
    "\n",
    "In this homework, your goal is to learn the basic principles of language modelling and text classification. As you learned in lecture, these are distinct, independent tasks, but language modelling often yields one with useful representations of language (e.g., word embeddings). Specifically, these representations may be useful toward _other_ NLP tasks, such as text classification, question-answering, named entity recognition, and a slew of other NLP problems.\n",
    "\n",
    "Toward this goal of understanding both language models (LMs) and text classification, you will build from scratch a simple language model (a _bi-gram_ language model). You will then gain experience working with popular pre-trained, open-sourced language models (e.g. `BERT`). Finally, you will develop text classification models for an actual real-life application of assisting in systematic reviews of medical research abstracts. \n",
    "\n",
    "<hr style=\"height:2pt\">\n",
    "\n",
    "### INSTRUCTIONS\n",
    "\n",
    "- To submit your assignment follow the instructions given in Canvas.\n",
    "\n",
    "- Please restart the kernel and run the entire notebook again before you submit.\n",
    "\n",
    "- Running cells out of order is a common pitfall in Jupyter Notebooks. To make sure your code works restart the kernel and run the whole notebook again before you submit. \n",
    "\n",
    "- We have tried to include all the libraries you may need to do the assignment in the imports cell provided below. **Please use only the libraries provided in those imports.**\n",
    "\n",
    "- Please use .head() when viewing data. Do not submit a notebook that is **excessively long**. \n",
    "\n",
    "- In questions that require code to answer, such as \"calculate the $R^2$\", do not just output the value from a cell. Write a `print()` function that clearly labels the output, includes a reference to the calculated value, and rounds it to a reasonable number of digits. **Do not hard code values in your printed output**. For example, this is an appropriate print statement:\n",
    "```python\n",
    "print(f\"The R^2 is {R:.4f}\")\n",
    "```\n",
    "- Your plots should be clearly labeled, including clear labels for the $x$ and $y$ axes as well as a descriptive title (\"MSE plot\" is NOT a descriptive title; \"95% confidence interval of coefficients of polynomial degree 5\" on the other hand is descriptive).\n",
    "\n",
    "<hr style=\"height:2pt\">\n",
    "\n",
    "### Learning Objectives\n",
    "- Become familiar with language models and what they actually do (going beyond using them as black boxes)\n",
    "- Gain experience with popular, pre-trained language models like `BERT` and `GPT2`.\n",
    "- Understand metrics for assessing the quality of language models\n",
    "- Become comfortable using classifiers on text data\n",
    "- Reflect on what further options you could pursue with the skills you learned in this homework (e.g., Could you implement an auto-complete or auto-correct app for text messages? What else can you do with the embeddings produced from `BERT` or similar models?)\n",
    "\n",
    "<hr style=\"height:2pt\">\n",
    "\n",
    "### Notes\n",
    "- Creating the `BigramLM` requires careful programming, as it's easy to make a mistake. Make sure you allocate appropriate time to complete it.\n",
    "- You will train your own word embeddings. In this part your take away is to understand what embeddings are and create it on a new dataset. \n",
    "- The text classification task is for you to compare and contrast the various modeling techniques. Your goal is to apply deep learning models for classification on a new dataset.\n",
    "\n",
    "\n",
    "<hr style=\"height:2pt\">\n",
    "\n",
    "<a id=\"contents\"></a>\n",
    "\n",
    "## Notebook Contents\n",
    "\n",
    "- [**Part 0 (Setup Notebook)**](#part0)\n",
    "\n",
    "- [**PART 1 [ 60 pts ]: Language Modelling**](#part1)\n",
    "  - [Overview](#part1intro)\n",
    "  - [Questions](#part1questions)\n",
    "  - [Solutions](#part1solutions)\n",
    "\n",
    "\n",
    "- [**PART 2 [ 10 pts ]: Word Embeddings**](#part2)\n",
    "  - [Overview](#part2intro)\n",
    "  - [Questions](#part2questions)\n",
    "  - [Solutions](#part2solutions)\n",
    "\n",
    "\n",
    "- [**PART 3 [ 30 pts ]: Text Classification**](#part3)\n",
    "  - [Overview](#part3intro)\n",
    "  - [Questions](#part3questions)\n",
    "  - [Solutions](#part3solutions)"
   ]
  },
  {
   "cell_type": "markdown",
   "metadata": {},
   "source": [
    "<a id=\"part0\"></a>\n",
    "\n",
    "## Part 0. Setup Notebook"
   ]
  },
  {
   "cell_type": "markdown",
   "metadata": {},
   "source": [
    "<div class='exercise-r'><b> Exercise 0 [0 pt]: Install HuggingFace transformers, download datasets</b>\n",
    "\n",
    "[HuggingFace](https://huggingface.co/transformers/) is revolutionary in providing well-coded, open-source implementations of many state-of-the-art models for NLP. Additionally, they have hundreds of corpora available for research and development, too. Be sure you install the transformers package from HuggingFace. (See cell below to download datasets and installing HuggingFace transformers. )\n",
    "    \n",
    "    \n",
    "- Install transformers 4.4.1\n",
    "- Download hw_utils.py (Helper functions for homework)\n",
    "- Download Harry Potter dataset - Part 1&2\n",
    "- Download Medical Abstract dataset - Part 3\n",
    "    \n",
    "</div>\n"
   ]
  },
  {
   "cell_type": "markdown",
   "metadata": {},
   "source": [
    "<font color=\"red\">**Installation for Jupyter Hub**</font>\n",
    "\n"
   ]
  },
  {
   "cell_type": "code",
   "execution_count": 2,
   "metadata": {},
   "outputs": [],
   "source": [
    "# !sudo /usr/share/anaconda3/bin/conda install -c huggingface transformers==4.4.1 -y\n",
    "\n",
    "# !wget https://raw.githubusercontent.com/Harvard-IACS/2021-CS109B/master/content/misc/hw_utils.py\n",
    "\n",
    "# import hw_utils\n",
    "\n",
    "# !mkdir data\n",
    "# hw_utils.download_file('https://cs109b-course-data.s3.amazonaws.com/hw6/harry_potter.zip',extract=True,base_path='data/harry_potter/',)\n",
    "\n",
    "# hw_utils.download_file(\" https://cs109b-course-data.s3.amazonaws.com/project_1.zip\", base_path=\"datasets\", extract=True)\n"
   ]
  },
  {
   "cell_type": "markdown",
   "metadata": {},
   "source": [
    "<font color=\"red\">**Installation for Google Colab**</font>\n",
    "\n",
    "Remember to enable GPU by going to \"Runtime > Change Runtime Type\" and selecting \"GPU\" for Hardware accelarator and then click \"Save\""
   ]
  },
  {
   "cell_type": "code",
   "execution_count": 3,
   "metadata": {},
   "outputs": [],
   "source": [
    "# !pip3 install transformers==4.4.1\n",
    "\n",
    "# !wget https://raw.githubusercontent.com/Harvard-IACS/2021-CS109B/master/content/misc/hw_utils.py\n",
    "\n",
    "# import hw_utils\n",
    "\n",
    "# !mkdir data\n",
    "# hw_utils.download_file('https://cs109b-course-data.s3.amazonaws.com/hw6/harry_potter.zip',extract=True,base_path='data/harry_potter/',)\n",
    "\n",
    "# hw_utils.download_file(\" https://cs109b-course-data.s3.amazonaws.com/project_1.zip\", base_path=\"datasets\", extract=True)\n"
   ]
  },
  {
   "cell_type": "markdown",
   "metadata": {},
   "source": [
    "Regardless of your working environment (e.g.., Google Colab, JupyterHub, locally on your own machine), run the following cell to import all necessary libraries."
   ]
  },
  {
   "cell_type": "code",
   "execution_count": 4,
   "metadata": {},
   "outputs": [],
   "source": [
    "# import the necessary libraries\n",
    "import os \n",
    "os.environ['TF_CPP_MIN_LOG_LEVEL']='2' #Trying to reduce tensorflow warnings\n",
    "import re\n",
    "import math\n",
    "import string\n",
    "import hw_utils # LOADS HW CODE (helps de-clutter this notebook)\n",
    "import time\n",
    "import json\n",
    "import random\n",
    "import numpy as np\n",
    "import pandas as pd\n",
    "import nltk\n",
    "import tensorflow as tf\n",
    "import matplotlib.pyplot as plt\n",
    "import matplotlib.cm as cm\n",
    "\n",
    "# useful structures and functions for experiments \n",
    "from time import sleep\n",
    "from collections import Counter\n",
    "from collections import defaultdict\n",
    "from glob import glob\n",
    "\n",
    "# specific machine learning functionality\n",
    "from nltk.tokenize import word_tokenize, sent_tokenize\n",
    "from nltk.corpus import stopwords \n",
    "from nltk.tokenize import RegexpTokenizer\n",
    "from tensorflow import keras\n",
    "from tensorflow.keras.models import Model, Sequential\n",
    "from tensorflow.keras.layers.experimental.preprocessing import TextVectorization\n",
    "from tensorflow.keras.utils import to_categorical\n",
    "from tensorflow.python.keras import backend as K\n",
    "from tensorflow.python.keras.utils.layer_utils import count_params\n",
    "from sklearn.model_selection import train_test_split\n",
    "from sklearn import manifold\n",
    "from sklearn.metrics.pairwise import cosine_similarity\n",
    "from sklearn.metrics import f1_score, confusion_matrix\n",
    "from transformers import BertTokenizer, TFBertForSequenceClassification, BertConfig\n",
    "from transformers import GPT2Tokenizer, TFGPT2LMHeadModel\n"
   ]
  },
  {
   "cell_type": "code",
   "execution_count": 5,
   "metadata": {},
   "outputs": [
    {
     "name": "stderr",
     "output_type": "stream",
     "text": [
      "[nltk_data] Downloading package punkt to /home/80958757/nltk_data...\n",
      "[nltk_data]   Package punkt is already up-to-date!\n",
      "[nltk_data] Downloading package stopwords to\n",
      "[nltk_data]     /home/80958757/nltk_data...\n",
      "[nltk_data]   Package stopwords is already up-to-date!\n"
     ]
    },
    {
     "data": {
      "text/plain": [
       "True"
      ]
     },
     "execution_count": 5,
     "metadata": {},
     "output_type": "execute_result"
    }
   ],
   "source": [
    "# download nltk's punkt sentence tokenizer\n",
    "nltk.download('punkt')\n",
    "# download nltk's stop words\n",
    "nltk.download('stopwords')"
   ]
  },
  {
   "cell_type": "markdown",
   "metadata": {},
   "source": [
    "The following cell prints installation/version details, which is very helpful for debugging potential package issues."
   ]
  },
  {
   "cell_type": "code",
   "execution_count": 6,
   "metadata": {},
   "outputs": [
    {
     "name": "stdout",
     "output_type": "stream",
     "text": [
      "tensorflow version 2.4.1\n",
      "keras version 2.4.0\n",
      "Eager Execution Enabled: True\n",
      "INFO:tensorflow:Using MirroredStrategy with devices ('/job:localhost/replica:0/task:0/device:GPU:0',)\n",
      "Number of replicas: 1\n",
      "Devices: [PhysicalDevice(name='/physical_device:CPU:0', device_type='CPU'), PhysicalDevice(name='/physical_device:GPU:0', device_type='GPU')]\n",
      "[LogicalDevice(name='/device:GPU:0', device_type='GPU')]\n",
      "GPU Available:  [PhysicalDevice(name='/physical_device:GPU:0', device_type='GPU')]\n",
      "All Physical Devices [PhysicalDevice(name='/physical_device:CPU:0', device_type='CPU'), PhysicalDevice(name='/physical_device:GPU:0', device_type='GPU')]\n"
     ]
    }
   ],
   "source": [
    "# Enable/Disable Eager Execution\n",
    "# Reference: https://www.tensorflow.org/guide/eager\n",
    "# TensorFlow's eager execution is an imperative programming environment that evaluates operations immediately, \n",
    "# without building graphs\n",
    "\n",
    "#tf.compat.v1.disable_eager_execution()\n",
    "#tf.compat.v1.enable_eager_execution()\n",
    "\n",
    "print(\"tensorflow version\", tf.__version__)\n",
    "print(\"keras version\", tf.keras.__version__)\n",
    "print(\"Eager Execution Enabled:\", tf.executing_eagerly())\n",
    "\n",
    "# Get the number of replicas \n",
    "strategy = tf.distribute.MirroredStrategy()\n",
    "print(\"Number of replicas:\", strategy.num_replicas_in_sync)\n",
    "\n",
    "devices = tf.config.experimental.get_visible_devices()\n",
    "print(\"Devices:\", devices)\n",
    "print(tf.config.experimental.list_logical_devices('GPU'))\n",
    "\n",
    "print(\"GPU Available: \", tf.config.list_physical_devices('GPU'))\n",
    "print(\"All Physical Devices\", tf.config.list_physical_devices())\n",
    "\n",
    "# Better performance with the tf.data API\n",
    "# Reference: https://www.tensorflow.org/guide/data_performance\n",
    "AUTOTUNE = tf.data.experimental.AUTOTUNE"
   ]
  },
  {
   "cell_type": "markdown",
   "metadata": {},
   "source": [
    "<a id=\"part1\"></a>\n",
    "\n",
    "\n",
    "# PART 1. Language Modelling [60 pts]\n",
    "\n",
    "\n",
    "[Return to contents](#contents)\n",
    "\n",
    "<a id=\"part1intro\"></a>\n",
    "## Overview\n",
    "\n",
    "Recall from lecture that language models (LMs), by definition, allow us to compute the probability of any given sequence $S$. In doing so, they implicitly allow us to compute the most probable <i>next</i> word, too (i.e., given a sequence of length $s_{i}$, the most likely next word is that which gives us the most likely sequence of length $s_{i+1}$.\n",
    "\n",
    "Let's build a language model from scratch, starting with the most simple one, a `unigram` model. Next, you will build a `bi-gram` model. You'll also use a pre-trained `GPT-2` model. For all of these language models, we will use the text from Harry Potter books. You will evaluate these models both objectively, via perplexity, and subjectively, via your impressions of their outputs.\n",
    "\n",
    "\n",
    "<a id=\"part1questions\"></a>\n",
    "\n",
    "## PART 1: Questions\n",
    "\n",
    "\n",
    "<a id=\"q11\"></a>\n",
    "\n",
    "**[1.1:](#s11)** **Preprocessing + Base Function for Optimization** <font color='red'>(do not edit)</font>\n",
    "\n",
    "<a id=\"q12\"></a>\n",
    "\n",
    "**[1.2:](#s12)** **Unigram Model** <font color='red'>(do not edit)</font>\n",
    "\n",
    "Below, we provide the functionality for a unigram LM. It inherits the `optimize_parameters()` method from the base class, `NGramModel`. Notice that `optimize_parameters()` expects one to pass a class-specific `calculate_likelihood()` method to it. For example, our `UnigramModel` class defines its own `calculate_likelihood()` method, which accepts an `alpha` parameter. To be clear, the optimal `alpha` value is determined by `optimize_parameters()`.\n",
    "\n",
    "The `UnigramModel` constructor only accepts a list of tokens (should always be the training tokens). For clarity, we now briefly describe each of its methods:\n",
    "\n",
    "* `convert_tokens()` simply outputs the same input tokens it received, but after optionally UNKifying (\\*U\\*) the ones that were not present within the training tokens. Thus, the training tokens are left unedited, but any **dev** or **test** tokens will need to be UNKified.\n",
    "\n",
    "* `get_word_counts()` returns a dictionary-style count of all tokens (_key_ = word type; _value_ = # of occurrences)\n",
    "\n",
    "* `calculate_likelihood()` returns the unigram likelihood (negative log likelihood) of the passed-in tokens, based on the training data.\n",
    "    \n",
    "  \n",
    "#### Unigram Model \n",
    "\n",
    "$$P(w_i)  = \\frac{n_{w_i}(d)+\\alpha}{n_{w_*}(d)+\\alpha |V|}$$\n",
    "\n",
    "\n",
    "$ n_{w_i}(d)$ = # number of times $w_i$ appears in corpus $d$\n",
    "\n",
    "\n",
    "$ n_{w_*}(d)$ = # number of times any word $w$ appears in corpus $d$\n",
    "\n",
    "$|V|$ = # number of unique word types in vocabulary including extra 1 for *UNK\n",
    "\n",
    "\n",
    "\n",
    "<a id=\"q13\"></a>\n",
    "**[1.3:](#s13)** **Bigram Model** <font color='red'>(you create)</font>  \n",
    "\n",
    "<a id=\"q131\"></a>\n",
    "\n",
    "**[1.3.1:](#s131)** **Implementing a Bigram LM**\n",
    "    \n",
    "Your task is to write a Bigram model below. You have full freedom to design it however you wish, as long it can be executed by the cell that succeeds it. That is:\n",
    "\n",
    "* the `BigramModel` constructor must accept a list of training tokens, just like how we instantiate the `UnigramModel`.\n",
    "\n",
    "* you must provide functionality to return `dev_bigram_counts` (a `Counter` or `dict` of the bigram tokens).\n",
    "\n",
    "* you must write `calculate_likelihood()`, which accepts and works with `dev_bigram_counts`.\n",
    "\n",
    "* using our provided code, you'll find the optimal $\\beta$ (while using the optimal $\\alpha$ found from the UnigramModel)\n",
    "\n",
    "**NOTES:**\n",
    "\n",
    "* You can design the structure of your bigram tokens to be any format you wish. I find it useful to stitch them together with an `_`, since an underscore is never present within our corpus. Using tuples would also be great.\n",
    "\n",
    "* To be clear, let's say our **dev set** is `demo_dev.txt`, which has one sentence: __I love NLP.__ The above `parse_file()` will convert this to `dev_data`, a list of six tokens: **[\\< s\\>, i, love, nlp, ., \\< s \\>]**. Regardless of how you format the bigram tokens (e.g., tuples or concatenated with `_` or other special characters), your code should produce `dev_bigram_counts` as having five distinct keys/bigrams (illustrated here with the `_` format):\n",
    "\n",
    "`Counter({'\\< s\\>\\_i': 1, 'i_love': 1, 'love_\\*U\\*': 1, '\\*U\\*_.': 1, '._\\< s \\>': 1})`\n",
    "\n",
    "* If you set the **train set** to be `demo_train.txt` and the **dev set** to be `demo_dev.txt`, then running the above UnigramModel will yield you with an optimal $\\alpha$ of 4.97. The last line of the **BIGRAM TESTING** cell will invoke `bigram_lm.optimize_parameters()`. If you implemented the Bigram model correctly, this should find the optimal $\\beta$ to be 1.97 (when using $\\alpha$ = 4.97). Also, when using an $\\alpha$ of 1 and a $\\beta$ of 1, your Bigram should produce a likelihood of 6.6.\n",
    "\n",
    "* Ultimately, you need to run your code on the provided Harry Potter datasets, but the `demo_*` files are provided merely as a sanity check.\n",
    "\n",
    "\n",
    "#### BiGram Model \n",
    "\n",
    "$$ P(w'|w)  = P(w,w')  = \\frac{n_{w,w'}(d)+\\beta \\cdot P(w')}{n_{w,w*}(d)+\\beta}$$\n",
    "\n",
    "\n",
    "$$ P(w')  = \\frac{n_{w'}(d)+\\alpha}{n_{w_*}(d)+\\alpha |V|}$$\n",
    "\n",
    "\n",
    "\n",
    "$ n_{w,w'}(d)$ = # number of times words $w$ and $w'$ appear together as a bigram in corpus $d$\n",
    "\n",
    "\n",
    "$ n_{w,w*}(d)$ = # number of times  word $w$ is the first token of a bigram in corpus $d$\n",
    "\n",
    "$|V|$ = # number of unique word types in vocabulary including extra 1 for *UNK\n",
    "\n",
    "\n",
    "\n",
    "\n",
    "<a id=\"q132\"></a>\n",
    "\n",
    "**[1.3.2:](#s132)** **Evaluate text**\n",
    "    \n",
    "This is a continuation of your ongoing work. That is, we're still concerning your Bigram LM, which was fit on `training_data` and the optimal $\\alpha$ and $\\beta$ values were based on the `dev_data`.\n",
    "\n",
    "Now, your task is to implement the perplexity metric, so that we have a standardized way of evaluating our Bigram LM. Specifically:\n",
    "1. Add a method `calculate_perplexity()` to your `BigramModel` class above, then\n",
    "2. Edit the code cell below to get the perplexity scores for two different texts, `test_data1` and `test_data2`.\n",
    "3. Print to the screen these two perplexity scores.\n",
    "\n",
    "**NOTES:**\n",
    "\n",
    "* As a reminder, perplexity is defined by $2^{-l}$, where $l = \\frac{1}{M} \\sum_{i=1}^{m}\\text{log}(p(w_{i}))$.\n",
    "\n",
    "* Notice, the $\\text{log}(p(w_{i}))$ part of perplexity equation is just **log-likelihood.** In the previous exercise, you computed the **negative log-likelihood.**\n",
    "\n",
    "* $M$ represents the size of our data that is being evaluated.\n",
    "\n",
    "\n",
    "<a id=\"q133\"></a>\n",
    "    \n",
    "**[1.3.3:](#s133)** **Interpret results**\n",
    "    \n",
    "Reflect on the two perplexity scores you received in the previous cell. Specifically, answer and discuss the following (1 or 2 sentences per question is sufficient, no need for fluff please):\n",
    "\n",
    "1. Do the perplexity scores seem reasonable to you? (i.e., would you expect higher or lower values)?\n",
    "2. Relative to each other, would you expect the perplexity scores to be switched -- in terms of which test set yielded the higher or lower perplexity? Why or why not?\n",
    "3. Imagine we significantly trimmed the `test_data2` data to being only half in size. What would you expect to happen to its perplexity score?\n",
    "4. In our work above, we trained on `training_data`, which is the first Harry Potter book. We found the optimal $\\alpha$ and $\\beta$ values based on `dev_data`, which is the second Harry Potter Book. One of the perplexity scores corresponds to `test_data2`, which is the first Lord of the Rings book. However, instead, if we let `dev_data` be a different Lord of the Rings book (e.g., the __second__ Lord of the Rings book), what would you expect to happen to our perplexity score for `test_data2`?\n",
    "\n",
    "\n",
    "<a id=\"q14\"></a>\n",
    "\n",
    "**[1.4:](#s14)** **N-Gram Text Generation**\n",
    "\n",
    " \n",
    "We now have some objective, quantitative indication of our `Unigram`'s and `Bigrams`' abilities to _model_ language. Let's additionally, subjectively inspect how well it can actually generate text.\n",
    "\n",
    "We should generate text according to the following:\n",
    "\n",
    "* use the optimal $\\alpha$ and $\\beta$ values that we learned from the original `dev_data` set (Harry Potter Book #2)\n",
    "* **probabilistically** (not deterministically) generate each token. That is, we don't simply generate the maximum likely token at each time step. Instead, we randomly sample which token to generate, based on all tokens' likelihood.\n",
    "* exclude the possibility of generating an UNK (\\*U\\*) token\n",
    "* force our model to start w/ a \\< s\\> token\n",
    "* stop once our model has generated a total of $N+1$ \\< s\\> tokens (i.e., $N$ sentences in total)\n",
    "\n",
    "Below, we provide code that __probabilistically__ generates five sentences, using our `Unigram` LM.\n",
    "    \n",
    "\n",
    "<a id=\"q141\"></a>\n",
    " \n",
    "    \n",
    "**[1.4.1:](#s141)** **Interpret results**\n",
    "\n",
    "As you can see, the UnigramLM generates pretty non-sensical text. Write 2-3 sentences about the lengths of the sentences that are generated from a UnigramLM. Specifically, are the sentence lengths, on average, expected to be shorter than, equal to, or longer than sentences seen in the training data. How would this change as a function of the size of the training corpus?\n",
    "\n",
    "\n",
    "<a id=\"q142\"></a>\n",
    " \n",
    "    \n",
    "**[1.4.2:](#s142)** **Bigram Text Generation**\n",
    "    \n",
    "Write code below to generate $N$ sentences from your `BigramLM`, a la the UnigramLM text generation above. Your generation should adhere to the same requirements as listed above. That is:\n",
    "    \n",
    "* use the optimal $\\alpha$ and $\\beta$ values that we learned from the original `dev_data` set (Harry Potter Book #2)\n",
    "* **probabilistically** (not deterministically) generate each token. That is, we don't simply generate the maximum likely token at each time step. Instead, we randomly sample which token to generate, based on all tokens' likelihood.\n",
    "* exclude the possibility of generating an UNK (\\*U\\*) token\n",
    "* force your model to start w/ a \\< s\\> token\n",
    "* stop once your model has generated a total of $N+1$ \\< s\\> tokens (i.e., $N$ sentences in total)\n",
    "\n",
    "Use your code to generate **five** sentences.\n",
    "\n",
    "\n",
    "<a id=\"q143\"></a>\n",
    "\n",
    "**[1.4.3:](#s143)** **Interpret results**\n",
    "\n",
    "Reflect on your BigramLM's output. Please write 3-6 sentences, in total (not per bulleted point), about:\n",
    "1. its semantic and syntactic quality compared to the UnigramLM's output\n",
    "2. its expected sentence length compared to the training corpus\n",
    "3. explain one or two weaknesses with generating text with n-gram models\n",
    "\n",
    "\n",
    "<a id=\"q15\"></a>\n",
    "\n",
    "**[1.5:](#s15)** **GPT-2**\n",
    "\n",
    "In lecture, we learned about advanced LMs such as Transformers. Specifically, `GPT-2` is an autogressive LM that uses a Transformer Encoder and Transformer Decoder. It represents words as distributed, contextualized word embeddings. Using attention and self-attention, it's able to do a great job at modelling language. To see its power, let's use GPT-2 to model our Harry Potter corpus!\n",
    "\n",
    "As a reminder, `GPT-2` has been pre-trained on a _vast_ amount of text data (40 gbs). So, we will not train it on Harry Potter from scratch; we will simply __fine-tune__ it on Harry Potter Book #1 (`Book_1_The_Philosophers_Stone.txt`).\n",
    "\n",
    "\n",
    "<a id=\"q151\"></a>\n",
    "\n",
    "\n",
    "**[1.5.1:](#s151)** **Load and create tokenizer for GPT-2**\n",
    "    \n",
    "Load `GPT-2` from `HuggingFace`'s libraries. Then, fine-tune it on our Harry Potter Book #1 (`Book_1_The_Philosophers_Stone.txt`).\n",
    "\n",
    "* Use `GPT2Tokenizer` to tokenize the input text\n",
    "* NOTE: In [GPT2Tokenizer](https://huggingface.co/transformers/model_doc/gpt2.html#gpt2tokenizer), use `distilgpt2` as the `vocab_file` argument.\n",
    "* Split the input text into into blocks of length **100**\n",
    "* Generate inputs and labels by by shifting the input by one position:\n",
    "    * For example if your tokens are [1,2,3,4,5] then your inputs will be: [1,2,3,4] and labels will be: [2,3,4,5]\n",
    " \n",
    "\n",
    "\n",
    "<a id=\"q152\"></a>\n",
    " \n",
    "    \n",
    "**[1.5.2:](#s152)** **Prepare data for GPT-2**\n",
    "   \n",
    "* Create TF Datasets with your inputs and labels\n",
    "* Use a batch size of 12\n",
    "* When creating `tf.data` pipelines for training dataset. Follow this order when building the pipeline:\n",
    "  * Shuffle\n",
    "  * Batch\n",
    "  * Prefetch\n",
    "  \n",
    "<a id=\"q153\"></a>\n",
    "\n",
    "**[1.5.3:](#s153)** **Finetune GPT-2**\n",
    "\n",
    "* Build a model using `TFGPT2LMHeadModel` from the `transformers` package from Hugging Face\n",
    "* Load the pre-trained weights using `distilgpt2`\n",
    "\n",
    "\n",
    "\n",
    "<a id=\"q154\"></a>\n",
    "    \n",
    "**[1.5.4:](#s154)** **GPT-2 - model training**\n",
    "    \n",
    "* Use the `Adam` optimizer with a `learning_rate = 3e-5`, epsilon = `1e-08` and clipnorm = `1.0`\n",
    "* Use the loss `SparseCategoricalCrossentropy(from_logits=True)`. The pretrained `distilgpt2` has **6** Transformer layers. When fine-tuning our language model, we do not want to compute losses for every layers. So, when defining the loss functions, remember to set `None` for all of the transformer output layers. We will need to pass in an _array_ of loss functions to the `model.compile(...)`, rather than just one.\n",
    "* Use the metrics `SparseCategoricalAccuracy('accuracy')`\n",
    "* Train the model for at least **30 epochs**. The more you train, the better it will be at generating high-quality text (as you will see in the next question).\n",
    "\n",
    "\n",
    "<a id=\"q155\"></a>\n",
    "\n",
    "**[1.5.5:](#s155)** **Generate text with GPT-2**\n",
    "\n",
    "Now, using your GPT-2 model, generate 5 sentences of Harry Potter text!\n",
    "    \n",
    "* Use a prompt (2-3 words) and tokenize the words\n",
    "* Use the `model.generate(...)` function to generate output text\n",
    "* Here's an example of text generated from the fine-tuned GPT-2 model:\n",
    "    * `hufflepuff hates the slytherins.” “but what about you slytherin they hate me.” “oh they hate me!” said harry. “well i’ve got to go — i’ve got to go hogwarts!” “oh you are not going to be allowed goin’ around hogwarts is that funny professor — you know you can’t afford to go off to the bloody baron`\n",
    "    \n",
    "<a id=\"q156\"></a> \n",
    "    \n",
    "**[1.5.6:](#s156)** **Interpret results**\n",
    "    \n",
    "Reflect on your GPT-2's output. Please write 3-5 sentences, in total (not per bulleted point), about:\n",
    "1. its semantic and syntactic quality compared to the NGram LM's output\n",
    "2. weaknesses and strengths you see with the generated text\n"
   ]
  },
  {
   "cell_type": "markdown",
   "metadata": {},
   "source": [
    "\n",
    "<a id=\"part1solutions\"></a>\n",
    "\n",
    "## PART 1: Solutions\n",
    "\n",
    "[Return to contents](#contents)\n",
    "\n",
    "<a id=\"s11\"></a>\n",
    "\n",
    "\n",
    "## **[1.1:](#q11)** **Preprocessing + Base Function for Optimization** <font color='red'>(do not edit)</font>"
   ]
  },
  {
   "cell_type": "code",
   "execution_count": 7,
   "metadata": {},
   "outputs": [
    {
     "name": "stdout",
     "output_type": "stream",
     "text": [
      "['<s>', 'i', 'love', 'cs109b', '.', '<s>', 'i', 'love', 'cs109b', '.', '<s>']\n"
     ]
    }
   ],
   "source": [
    "# parses a text file into tokens, while ignoring lines that have a\n",
    "# specific \"Page #\" footer, which is present in the Harry Potter book data\n",
    "def parse_file(file):\n",
    "\n",
    "    # extracts all of the pertinent text, while ignoring the Page # lines\n",
    "    file_contents = open(file, 'r')\n",
    "    text_filtered = re.sub(r'Page \\| \\d+ .*', '', file_contents.read()).replace('\\n', ' ')\n",
    "\n",
    "    # converts the data into a list of tokens, with a\n",
    "    # <s> denoting sentence boundaries\n",
    "    sentences = sent_tokenize(text_filtered)\n",
    "    \n",
    "    # constructs all tokens\n",
    "    tokens = ['<s>']\n",
    "    for sent in sentences:\n",
    "        sent = word_tokenize(sent)\n",
    "        tokens.extend([token.lower() for token in sent])\n",
    "        tokens.append('<s>')\n",
    "    \n",
    "    return tokens\n",
    "\n",
    "#####################################\n",
    "#   represents a generic n-gram model.\n",
    "#\n",
    "#   UnigramModel and BigramModel classes\n",
    "#   will inherit from this class\n",
    "#####################################\n",
    "class NGramModel:\n",
    "    def __init__(self): pass\n",
    "        \n",
    "    def optimize_parameters(self, calculate_likelihood, a, b, c, resphi, counts, alpha=-1):        \n",
    "\n",
    "        if ((c-a) <= .02):        \n",
    "            # checks if we need to optimize for alpha (i.e., the unigram model's case)\n",
    "            if alpha == -1:\n",
    "                f_a = calculate_likelihood(a, counts)\n",
    "                f_b = calculate_likelihood(b, counts)\n",
    "                f_c = calculate_likelihood(c, counts)\n",
    "                \n",
    "            # we already have an alpha and will optimize other params (i.e., bigram's case)\n",
    "            else: \n",
    "                f_a = calculate_likelihood(alpha, a, counts)\n",
    "                f_b = calculate_likelihood(alpha, b, counts)\n",
    "                f_c = calculate_likelihood(alpha, c, counts)\n",
    "\n",
    "            if (f_a <= f_b):\n",
    "                if f_a <= f_c: return a, f_a\n",
    "                return c, f_c\n",
    "            elif f_b <= f_c: return b, f_b\n",
    "            return c, f_c\n",
    "        \n",
    "        x = 0\n",
    "        if c-b > b-a:\n",
    "            x = b + math.floor(resphi*(c-b))\n",
    "        else:\n",
    "            x = b - math.floor(resphi*(b-a))\n",
    "        \n",
    "        # checks if we need to optimize for alpha (i.e., the unigram model's case)\n",
    "        if alpha == -1:\n",
    "            f_b = calculate_likelihood(b, counts)\n",
    "            f_x = calculate_likelihood(x, counts)\n",
    "            \n",
    "        # we already have an alpha and will optimize other params (i.e., bigram's case)\n",
    "        else:\n",
    "            f_b = calculate_likelihood(alpha, b, counts)\n",
    "            f_x = calculate_likelihood(alpha, x, counts)\n",
    "        \n",
    "        if f_x < f_b:\n",
    "            if c-b > b-a:\n",
    "                return self.optimize_parameters(calculate_likelihood, b, x, c, resphi, counts, alpha)\n",
    "            return self.optimize_parameters(calculate_likelihood, a, x, b, resphi, counts, alpha)\n",
    "\n",
    "        else:\n",
    "            if c-b > b-a:\n",
    "                return self.optimize_parameters(calculate_likelihood, a, b, x, resphi, counts, alpha)\n",
    "            return self.optimize_parameters(calculate_likelihood, x, b, c, resphi, counts, alpha)\n",
    "\n",
    "##=========================#\n",
    "##   necessary variables   #\n",
    "##=========================#\n",
    "\n",
    "# starting boundaries for Golden-section search algorithm\n",
    "resphi = 2 - (1 + math.sqrt(5)) / 2\n",
    "a = 0.01\n",
    "c = 1000\n",
    "b = resphi*c\n",
    "\n",
    "# constructs data\n",
    "training_file = \"data/harry_potter/demo_train.txt\" # Book_1_The_Philosophers_Stone.txt\" #\n",
    "dev_file = \"data/harry_potter/demo_dev.txt\" #Book_2_The_Chamber_of_Secrets.txt\" #\n",
    "\n",
    "test_file1 = \"data/harry_potter/Book_3_The_Prisoner_of_Azkaban.txt\"\n",
    "test_file2 = \"data/harry_potter/the_fellowship_of_the_ring.txt\"\n",
    "\n",
    "training_data = parse_file(training_file)\n",
    "dev_data = parse_file(dev_file)\n",
    "test_data1 = parse_file(test_file1)\n",
    "test_data2 = parse_file(test_file2)\n",
    "\n",
    "print(training_data)"
   ]
  },
  {
   "cell_type": "markdown",
   "metadata": {},
   "source": [
    "<a id=\"s12\"></a>\n",
    "\n",
    "## **[1.2:](#q12)** **Unigram Model** <font color='red'>(do not edit)</font>\n",
    "\n",
    "<div class='exercise-r'>\n",
    "    \n",
    "Below, we provide the functionality for a unigram LM. It inherits the `optimize_parameters()` method from the base class, `NGramModel`. Notice that `optimize_parameters()` expects one to pass a class-specific `calculate_likelihood()` method to it. For example, our `UnigramModel` class defines its own `calculate_likelihood()` method, which accepts an `alpha` parameter. To be clear, the optimal `alpha` value is determined by `optimize_parameters()`.\n",
    "\n",
    "The `UnigramModel` constructor only accepts a list of tokens (should always be the training tokens). For clarity, we now briefly describe each of its methods:\n",
    "\n",
    "* `convert_tokens()` simply outputs the same input tokens it received, but after optionally UNKifying (\\*U\\*) the ones that were not present within the training tokens. Thus, the training tokens are left unedited, but any **dev** or **test** tokens will need to be UNKified.\n",
    "\n",
    "* `get_word_counts()` returns a dictionary-style count of all tokens (_key_ = word type; _value_ = # of occurrences)\n",
    "\n",
    "* `calculate_likelihood()` returns the unigram likelihood (negative log likelihood) of the passed-in tokens, based on the training data.\n",
    "    \n",
    "</div>"
   ]
  },
  {
   "cell_type": "markdown",
   "metadata": {},
   "source": [
    "#### Unigram Model \n",
    "\n",
    "$$P(w_i)  = \\frac{n_{w_i}(d)+\\alpha}{n_{w_*}(d)+\\alpha |V|}$$\n",
    "\n",
    "\n",
    "$ n_{w_i}(d)$ = # number of times $w_i$ appears in corpus $d$\n",
    "\n",
    "\n",
    "$ n_{w_*}(d)$ = # number of times any word $w$ appears in corpus $d$\n",
    "\n",
    "$|V|$ = # number of unique word types in vocabulary including extra 1 for *UNK\n"
   ]
  },
  {
   "cell_type": "code",
   "execution_count": 8,
   "metadata": {},
   "outputs": [],
   "source": [
    "class UnigramModel(NGramModel):\n",
    "    def __init__(self, training_tokens):\n",
    "        \n",
    "        self.training_unigrams = self.convert_tokens(training_tokens, False)\n",
    "        self.training_word_counts = self.get_word_counts(self.training_unigrams)\n",
    "\n",
    "    # dev and test tokens should UNK the out-of-vocabulary (OOV) words\n",
    "    def convert_tokens(self, tokens, convert_to_unks):\n",
    "        if convert_to_unks:\n",
    "            tokens = [\"*U*\" if token not in self.training_unigrams else token for token in tokens]      \n",
    "        return tokens\n",
    "    \n",
    "    def get_word_counts(self, tokens): return Counter(tokens)\n",
    "    \n",
    "    def calculate_likelihood(self, alpha, unigram_counts):\n",
    "\n",
    "        likelihood = 0.0\n",
    "\n",
    "        # we add 1 for the *U* type\n",
    "        num_training_types = len(self.training_word_counts) + 1\n",
    "        for token in unigram_counts:\n",
    "            numerator = self.training_word_counts[token] + alpha\n",
    "            denom = len(self.training_unigrams) + alpha*num_training_types\n",
    "            likelihood += -1.0*unigram_counts[token]*math.log(numerator / denom)            \n",
    "\n",
    "        return likelihood"
   ]
  },
  {
   "cell_type": "markdown",
   "metadata": {},
   "source": [
    "Now, let's instantiate the model, fit it to our **training** data, and calculate the optimal $\\alpha$ that maximizes the likelihood of the **dev** set."
   ]
  },
  {
   "cell_type": "code",
   "execution_count": 9,
   "metadata": {},
   "outputs": [],
   "source": [
    "# constructs a unigram LM\n",
    "unigram_lm = UnigramModel(training_data)\n",
    "\n",
    "# parses the dev data. for large corpora, this isn't fast\n",
    "dev_tokens = unigram_lm.convert_tokens(dev_data, True)\n",
    "dev_counts = unigram_lm.get_word_counts(dev_tokens)\n",
    "\n",
    "# determines the MLE for alpha \n",
    "optimal_alpha, optimal_likelihood = \\\n",
    "    unigram_lm.optimize_parameters(unigram_lm.calculate_likelihood, a, b, c, resphi, dev_counts)"
   ]
  },
  {
   "cell_type": "code",
   "execution_count": 10,
   "metadata": {
    "scrolled": true
   },
   "outputs": [
    {
     "name": "stdout",
     "output_type": "stream",
     "text": [
      "optimal_alpha: 4.97 (dev data's unigram likelihood: 10.7)\n"
     ]
    }
   ],
   "source": [
    "print(f\"optimal_alpha: {optimal_alpha:.2f} (dev data's unigram likelihood: {optimal_likelihood:0.1f})\")"
   ]
  },
  {
   "cell_type": "markdown",
   "metadata": {},
   "source": [
    "<a id=\"s13\"></a>\n",
    "\n",
    "## **[1.3:](#q13)** **Bigram Model** <font color='red'>(you create)</font> [25 pts]"
   ]
  },
  {
   "cell_type": "markdown",
   "metadata": {},
   "source": [
    "<a id=\"s131\"></a>\n",
    "<div class='exercise-r'>\n",
    "\n",
    "**[1.3.1:](#q131)** **Implementing a Bigram LM**\n",
    "    \n",
    "Your task is to write a Bigram model below. You have full freedom to design it however you wish, including adding any methods you wish, as long it can be executed by the cell that succeeds it. That is:\n",
    "\n",
    "* the `BigramModel` constructor must accept a list of training tokens, just like how we instantiate the `UnigramModel`.\n",
    "\n",
    "* you must provide functionality to return `dev_bigram_counts` (a `Counter` or `dict` of the bigram tokens).\n",
    "\n",
    "* you must write `calculate_likelihood()`, which accepts and works with `dev_bigram_counts`.\n",
    "\n",
    "* using our provided code, you'll find the optimal $\\beta$ (while using the optimal $\\alpha$ found from the UnigramModel)\n",
    "\n",
    "* edit the \"BIGRAM TESTING\" CELL so that you can actually run your BigramModel\n",
    "\n",
    "**NOTES:**\n",
    "\n",
    "* You can design the structure of your bigram tokens to be any format you wish. I find it useful to stitch them together with an `_`, since an underscore is never present within our corpus. Using tuples would also be great.\n",
    "\n",
    "* To be clear, let's say our **dev set** is `demo_dev.txt`, which has one sentence: __I love NLP.__ The above `parse_file()` will convert this to `dev_data`, a list of six tokens: **[\\< s\\>, i, love, nlp, ., \\< s \\>]**. Regardless of how you format the bigram tokens (e.g., tuples or concatenated with `_` or other special characters), your code should produce `dev_bigram_counts` as having five distinct keys/bigrams (illustrated here with the `_` format):\n",
    "> Counter({'\\< s\\>\\_i': 1, 'i_love': 1, 'love_\\*U\\*': 1, '\\*U\\*_.': 1, '._\\< s \\>': 1})\n",
    "\n",
    "* If you set the **train set** to be `demo_train.txt` and the **dev set** to be `demo_dev.txt`, then running the above UnigramModel will yield you with an optimal $\\alpha$ of 4.97. The last line of the **BIGRAM TESTING** cell will invoke `bigram_lm.optimize_parameters()`. If you implemented the Bigram model correctly, this should find the optimal $\\beta$ to be 1.97 (when using $\\alpha$ = 4.97). Also, when using an $\\alpha$ of 1 and a $\\beta$ of 1, your Bigram should produce a likelihood of 6.6.\n",
    "\n",
    "* Ultimately, you need to run your code on the provided Harry Potter datasets, but the `demo_*` files are provided merely as a sanity check.\n",
    "\n",
    "</div>"
   ]
  },
  {
   "cell_type": "markdown",
   "metadata": {},
   "source": [
    "#### BiGram Model \n",
    "\n",
    "$$ P(w'|w)  = P(w,w')  = \\frac{n_{w,w'}(d)+\\beta \\cdot P(w')}{n_{w,w*}(d)+\\beta}$$\n",
    "\n",
    "\n",
    "$$ P(w')  = \\frac{n_{w'}(d)+\\alpha}{n_{w_*}(d)+\\alpha |V|}$$\n",
    "\n",
    "\n",
    "\n",
    "$ n_{w,w'}(d)$ = # number of times words $w$ and $w'$ appear together as a bigram in corpus $d$\n",
    "\n",
    "\n",
    "$ n_{w,w*}(d)$ = # number of times  word $w$ is the first token of a bigram in corpus $d$\n",
    "\n",
    "$|V|$ = # number of unique word types in vocabulary including extra 1 for *UNK\n",
    "\n"
   ]
  },
  {
   "cell_type": "code",
   "execution_count": 11,
   "metadata": {},
   "outputs": [],
   "source": [
    "class BigramModel(NGramModel):\n",
    "    def __init__(self, training_tokens):\n",
    "\n",
    "        self.unigram_lm = UnigramModel(training_tokens)\n",
    "        \n",
    "        self.training_bigrams = self.convert_tokens(training_tokens, False)\n",
    "        self.training_head_counts, self.training_bigram_counts = self.get_word_counts(self.training_bigrams)\n",
    "\n",
    "    # any non-training data (e.g., dev and test) will first need\n",
    "    # its out-of-vocabulary (OOV) words to be converted to UNKs\n",
    "    def convert_tokens(self, tokens, convert_to_unks):\n",
    "        bigram_tokens = []\n",
    "        for bigram in zip(tokens, tokens[1:]):\n",
    "            \n",
    "            if convert_to_unks and bigram[0] not in self.unigram_lm.training_word_counts:\n",
    "                bigram = (\"*U*\", bigram[1])\n",
    "            if convert_to_unks and bigram[1] not in self.unigram_lm.training_word_counts:\n",
    "                bigram = (bigram[0], \"*U*\")\n",
    "            bigram_tokens.append(bigram[0] + \"_\" + bigram[1])\n",
    "        return bigram_tokens\n",
    "                \n",
    "    # returns the bigram head counts (i.e., token#1)\n",
    "    # and the full bigram counts (i.e., token#1_token#2)\n",
    "    def get_word_counts(self, bigrams):\n",
    "    \n",
    "        bigram_heads = defaultdict(int)\n",
    "        for bigram in bigrams:\n",
    "            first_token, second_token = bigram.split(\"_\")\n",
    "            bigram_heads[first_token] += 1\n",
    "\n",
    "        return bigram_heads, Counter(bigrams)\n",
    "            \n",
    "    def calculate_perplexity(self, alpha, beta, num_tokens, bigram_counts):\n",
    "        return math.pow(2, self.calculate_likelihood(alpha, beta, bigram_counts) / num_tokens)\n",
    "        \n",
    "    def calculate_likelihood(self, alpha, beta, bigram_counts):\n",
    "                \n",
    "        total_likelihood = 0.0\n",
    "\n",
    "        # we add 1 for the *U* type\n",
    "        num_training_unigram_types = len(self.unigram_lm.training_word_counts) + 1\n",
    "        \n",
    "        # iterates through each bigram type\n",
    "        for bigram in bigram_counts:\n",
    "            \n",
    "            first_token, second_token = bigram.split(\"_\")\n",
    "            \n",
    "            # calculates the unigram back-off likelihood\n",
    "            uni_numerator = self.unigram_lm.training_word_counts[second_token] + alpha\n",
    "            uni_denom = len(self.unigram_lm.training_unigrams) + alpha*num_training_unigram_types\n",
    "            uni_likelihood = uni_numerator / uni_denom\n",
    "             \n",
    "            # calculates the bigram likelihood\n",
    "            bi_numerator = self.training_bigram_counts[bigram] + beta*uni_likelihood\n",
    "            bi_denom = self.training_head_counts[first_token] + beta\n",
    "            \n",
    "            bi_likelihood = -1.0*bigram_counts[bigram]*math.log(bi_numerator / bi_denom)\n",
    "            total_likelihood += bi_likelihood\n",
    "            \n",
    "        return total_likelihood"
   ]
  },
  {
   "cell_type": "code",
   "execution_count": 12,
   "metadata": {},
   "outputs": [],
   "source": [
    "###########################\n",
    "## \"BIGRAM TESTING\" CELL ##\n",
    "###########################\n",
    "\n",
    "# constructs a bigram LM\n",
    "bigram_lm = BigramModel(training_data)\n",
    "\n",
    "# parses the dev data. for large corpora, this isn't fast\n",
    "dev_tokens = bigram_lm.convert_tokens(dev_data, True)\n",
    "unused_head_counts, dev_bigram_counts = bigram_lm.get_word_counts(dev_tokens)\n",
    "\n",
    "# determines the MLE for beta, using the pre-computed optimal unigram alpha\n",
    "optimal_beta, optimal_likelihood = \\\n",
    "    bigram_lm.optimize_parameters(bigram_lm.calculate_likelihood, a, b, c, resphi, dev_bigram_counts, optimal_alpha)"
   ]
  },
  {
   "cell_type": "code",
   "execution_count": 13,
   "metadata": {},
   "outputs": [
    {
     "name": "stdout",
     "output_type": "stream",
     "text": [
      "optimal_alpha: 4.97; optimal_beta: 1.97 (dev data's bigram likelihood: 6.1)\n"
     ]
    }
   ],
   "source": [
    "print(f\"optimal_alpha: {optimal_alpha:.2f}; optimal_beta: {optimal_beta:.2f} (dev data's bigram likelihood: {optimal_likelihood:0.1f})\")"
   ]
  },
  {
   "cell_type": "markdown",
   "metadata": {},
   "source": [
    "<a id=\"s132\"></a>\n",
    "<div class='exercise-r'>\n",
    "\n",
    "**[1.3.2:](#q132)** **Evaluate text**\n",
    "    \n",
    "This is a continuation of your ongoing work. That is, we're still concerning your Bigram LM, which was fit on `training_data` and the optimal $\\alpha$ and $\\beta$ values were based on the `dev_data`.\n",
    "\n",
    "Now, your task is to implement the perplexity metric, so that we have a standardized way of evaluating our Bigram LM. Specifically:\n",
    "1. Add a method `calculate_perplexity()` to your `BigramModel` class above, then\n",
    "2. Edit the code cell below to get the perplexity scores for two different texts, `test_data1` and `test_data2`.\n",
    "3. Print to the screen these two perplexity scores.\n",
    "\n",
    "**NOTES:**\n",
    "\n",
    "* As a reminder, perplexity is defined by $2^{-l}$, where $l = \\frac{1}{M} \\sum_{i=1}^{m}\\text{log}(p(w_{i}))$.\n",
    "\n",
    "* Notice, the $\\text{log}(p(w_{i}))$ part of perplexity equation is just **log-likelihood.** In the previous exercise, you computed the **negative log-likelihood.**\n",
    "\n",
    "* $M$ represents the size of our data that is being evaluated.\n",
    "</div>"
   ]
  },
  {
   "cell_type": "code",
   "execution_count": 14,
   "metadata": {},
   "outputs": [
    {
     "name": "stdout",
     "output_type": "stream",
     "text": [
      "test_data1's perplexity: 4.15\n",
      "test_data2's perplexity: 4.16\n"
     ]
    }
   ],
   "source": [
    "# gets test1's bigrams\n",
    "test_tokens1 = bigram_lm.convert_tokens(test_data1, True)\n",
    "unused_head_counts, test_bigram_counts1 = bigram_lm.get_word_counts(test_tokens1)\n",
    "\n",
    "# gets test2's bigrams\n",
    "test_tokens2 = bigram_lm.convert_tokens(test_data2, True)\n",
    "unused_head_counts, test_bigram_counts2 = bigram_lm.get_word_counts(test_tokens2)\n",
    "\n",
    "test1_perplexity = bigram_lm.calculate_perplexity(optimal_alpha, optimal_beta, len(test_data1), test_bigram_counts1)\n",
    "test2_perplexity = bigram_lm.calculate_perplexity(optimal_alpha, optimal_beta, len(test_data2), test_bigram_counts2)\n",
    "\n",
    "print(f\"test_data1's perplexity: {test1_perplexity:0.2f}\")\n",
    "print(f\"test_data2's perplexity: {test2_perplexity:0.2f}\")"
   ]
  },
  {
   "cell_type": "markdown",
   "metadata": {},
   "source": [
    "<a id=\"s133\"></a>\n",
    "<div class='exercise-r'>\n",
    "    \n",
    "**[1.3.3:](#q133)** **Interpret results**\n",
    "    \n",
    "Reflect on the two perplexity scores you received in the previous cell. Specifically, answer and discuss the following (1 or 2 sentences per question is sufficient, no need for fluff please):\n",
    "\n",
    "1. Do the perplexity scores seem reasonable to you? (i.e., would you expect higher or lower values)?\n",
    "2. Relative to each other, would you expect the perplexity scores to be switched -- in terms of which test set yielded the higher or lower perplexity? Why or why not?\n",
    "3. Imagine we significantly trimmed the `test_data2` data to being only half in size. What would you expect to happen to its perplexity score?\n",
    "4. In our work above, we trained on `training_data`, which is the first Harry Potter book. We found the optimal $\\alpha$ and $\\beta$ values based on `dev_data`, which is the second Harry Potter Book. One of the perplexity scores corresponds to `test_data2`, which is the first Lord of the Rings book. However, instead, if we let `dev_data` be a different Lord of the Rings book (e.g., the __second__ Lord of the Rings book), what would you expect to happen to our perplexity score for `test_data2`?\n",
    "</div>"
   ]
  },
  {
   "cell_type": "markdown",
   "metadata": {},
   "source": [
    "**INTERPRETATION:**"
   ]
  },
  {
   "cell_type": "markdown",
   "metadata": {},
   "source": [
    "YOUR ANSWER HERE"
   ]
  },
  {
   "cell_type": "markdown",
   "metadata": {},
   "source": [
    "<a id=\"s14\"></a>\n",
    "<div class='exercise-r'>\n",
    "\n",
    "## **[1.4:](#q14)** **N-Gram Text Generation**\n",
    "\n",
    " \n",
    "We now have some objective, quantitative indication of our `Unigram`'s and `Bigrams`' abilities to _model_ language. Let's additionally, subjectively inspect how well it can actually generate text.\n",
    "\n",
    "We should generate text according to the following:\n",
    "\n",
    "* use the optimal $\\alpha$ and $\\beta$ values that we learned from the original `dev_data` set (Harry Potter Book #2)\n",
    "* **probabilistically** (not deterministically) generate each token. That is, we don't simply generate the maximum likely token at each time step. Instead, we randomly sample which token to generate, based on all tokens' likelihood.\n",
    "* exclude the possibility of generating an UNK (\\*U\\*) token\n",
    "* force our model to start w/ a \\< s\\> token\n",
    "* stop once our model has generated a total of $N+1$ \\< s\\> tokens (i.e., $N$ sentences in total)\n",
    "\n",
    "Below, we provide code that __probabilistically__ generates five sentences, using our `Unigram` LM.\n",
    "    \n",
    "<div/>\n"
   ]
  },
  {
   "cell_type": "code",
   "execution_count": 15,
   "metadata": {},
   "outputs": [],
   "source": [
    "# probabilistically generates text from our UnigramLM\n",
    "def generate_unigram_text(unigram_lm, num_sentences):\n",
    "    \n",
    "    # notice, we don't include an UNK (*U*) token, so no +1 adjustments\n",
    "    num_training_unigram_types = len(unigram_lm.training_word_counts)\n",
    "\n",
    "    # precomputes the likelihood of generating each token\n",
    "    token_probs = {}\n",
    "    total = 0\n",
    "    for word_type in unigram_lm.training_word_counts:\n",
    "        numerator = unigram_lm.training_word_counts[word_type] + optimal_alpha\n",
    "        denom = len(unigram_lm.training_unigrams) + optimal_alpha*(num_training_unigram_types)\n",
    "        prob = numerator / denom\n",
    "        token_probs[word_type] = prob\n",
    "        total += prob\n",
    "\n",
    "    # notice that they sum to 1. the same should hold true for your bigram LM\n",
    "    print(\"marginal probability:\", total)\n",
    "\n",
    "    # convenient format for probabilistic sampling\n",
    "    tokens, token_probs = zip(*[(k, token_probs[k]) for k in token_probs.keys()])\n",
    "    tokens = list(tokens)\n",
    "    token_probs = list(token_probs)\n",
    "\n",
    "    # let's generate sentences!\n",
    "    output = \"<s>\"\n",
    "    s_count = 0\n",
    "    while s_count < num_sentences:\n",
    "        rand_token = random.choices(tokens, token_probs)[0]\n",
    "        output += \" \" + rand_token\n",
    "        if rand_token == \"<s>\":\n",
    "            s_count += 1\n",
    "    return output"
   ]
  },
  {
   "cell_type": "code",
   "execution_count": 16,
   "metadata": {},
   "outputs": [
    {
     "name": "stdout",
     "output_type": "stream",
     "text": [
      "marginal probability: 1.0\n",
      "<s> i cs109b cs109b <s> i i i i . cs109b love love cs109b i cs109b cs109b <s> . <s> love love cs109b cs109b <s> cs109b <s>\n"
     ]
    }
   ],
   "source": [
    "print(generate_unigram_text(unigram_lm, 5))"
   ]
  },
  {
   "cell_type": "markdown",
   "metadata": {},
   "source": [
    "<a id=\"s141\"></a>\n",
    "\n",
    "<div class='exercise-r'> \n",
    "    \n",
    "**[1.4.1:](#q141)** **Interpret results**\n",
    "\n",
    "As you can see, the UnigramLM generates pretty non-sensical text. Write 2-3 sentences about the lengths of the sentences that are generated from a UnigramLM. Specifically, are the sentence lengths, on average, expected to be shorter than, equal to, or longer than sentences seen in the training data. How would this change as a function of the size of the training corpus?\n",
    "</div>"
   ]
  },
  {
   "cell_type": "markdown",
   "metadata": {},
   "source": [
    "**INTERPRETATION:**"
   ]
  },
  {
   "cell_type": "markdown",
   "metadata": {},
   "source": [
    "YOUR ANSWER HERE"
   ]
  },
  {
   "cell_type": "markdown",
   "metadata": {},
   "source": [
    "<a id=\"s142\"></a>\n",
    "\n",
    "<div class='exercise-r'> \n",
    "    \n",
    "**[1.4.2:](#q142)** **Bigram Text Generation**\n",
    "    \n",
    "Write code below to generate $N$ sentences from your `BigramLM`, a la the UnigramLM text generation above. Your generation should adhere to the same requirements as listed above. That is:\n",
    "    \n",
    "* use the optimal $\\alpha$ and $\\beta$ values that we learned from the original `dev_data` set (Harry Potter Book #2)\n",
    "* **probabilistically** (not deterministically) generate each token. That is, we don't simply generate the maximum likely token at each time step. Instead, we randomly sample which token to generate, based on all tokens' likelihood.\n",
    "* exclude the possibility of generating an UNK (\\*U\\*) token\n",
    "* force your model to start w/ a \\< s\\> token\n",
    "* stop once your model has generated a total of $N+1$ \\< s\\> tokens (i.e., $N$ sentences in total)\n",
    "\n",
    "Use your code to generate **five** sentences.\n",
    "</div>"
   ]
  },
  {
   "cell_type": "code",
   "execution_count": 24,
   "metadata": {},
   "outputs": [
    {
     "name": "stdout",
     "output_type": "stream",
     "text": [
      "<s> cs109b <s> love cs109b love i i cs109b love cs109b . i cs109b . <s> i cs109b <s> . . <s> i love cs109b love i i love cs109b <s> i i . . <s>\n"
     ]
    }
   ],
   "source": [
    "def generate_bigram_text(bigram_lm, num_sentences):  \n",
    "    unigram_lm = bigram_lm.unigram_lm\n",
    "    num_training_unigram_types = len(unigram_lm.training_word_counts)+1 \n",
    "    \n",
    "    token_probs_dict = {}\n",
    "    total=0\n",
    "    all_possible_bigrams = []\n",
    "    \n",
    "    for wtype in set(unigram_lm.training_word_counts).union({\"*U*\"}):\n",
    "        for wtype2 in set(unigram_lm.training_word_counts).union({\"*U*\"}):\n",
    "            all_possible_bigrams.append(wtype + \"_\" + wtype2)\n",
    "\n",
    "    for bigram in all_possible_bigrams: \n",
    "        first_token, second_token = bigram.split(\"_\")\n",
    "        # calculates the unigram back-off likelihood\n",
    "        uni_numerator = unigram_lm.training_word_counts[second_token] + optimal_alpha\n",
    "        uni_denom = len(unigram_lm.training_unigrams) + optimal_alpha*num_training_unigram_types\n",
    "        uni_prob = uni_numerator / uni_denom\n",
    "\n",
    "        # calculates the bigram likelihood\n",
    "        bi_numerator = bigram_lm.training_bigram_counts[bigram] + optimal_beta*uni_prob\n",
    "        bi_denom = bigram_lm.training_head_counts[first_token] + optimal_beta\n",
    "        prob = bi_numerator / bi_denom\n",
    "        token_probs_dict[bigram] = prob\n",
    "        total += prob\n",
    "         \n",
    "    # pickle.dump( token_probs_dict, open( \"save.p\", \"wb\" ) )\n",
    "    # token_probs_dict = pickle.load( open( \"save.p\", \"rb\" ) )\n",
    "    \n",
    "    \n",
    "    # convenient format for probabilistic sampling\n",
    "    tokens, token_probs = zip(*[(k, token_probs_dict[k]) for k in token_probs_dict.keys()])\n",
    "    tokens = list(tokens)\n",
    "    token_probs = list(token_probs)\n",
    "\n",
    "    # let's generate sentences!\n",
    "    output = \"<s>\"\n",
    "    s_count = 0\n",
    "    \n",
    "    #randomly pick a token to begin with    #should exclude unk here also\n",
    "    rand_token = random.choices(tokens, token_probs)[0]\n",
    "\n",
    "    output += \" \" + rand_token.split(\"_\")[0] + \" \"+ rand_token.split(\"_\")[1]\n",
    "\n",
    "    while s_count < num_sentences:\n",
    "        token_to_find = rand_token.split(\"_\")[1]\n",
    "        set_of_next_possible_tokens = [] \n",
    "        set_of_next_possible_token_weights = []\n",
    "        for k,v in token_probs_dict.items():\n",
    "            first_token, second_token = k.split('_')\n",
    "            if ((first_token ==  token_to_find) & (second_token!=\"*U*\")):\n",
    "                set_of_next_possible_tokens.append(k)#.split('_')[1]\n",
    "                set_of_next_possible_token_weights.append(v)\n",
    "      \n",
    "        rand_token = random.choices(set_of_next_possible_tokens, set_of_next_possible_token_weights)[0]\n",
    "        output += \" \" + rand_token.split(\"_\")[1]\n",
    "        if rand_token.split(\"_\")[1] == \"<s>\":\n",
    "            s_count += 1\n",
    "        \n",
    "    return output\n",
    "\n",
    "\n",
    "generate_bigram_text(bigram_lm, 5)\n",
    "\n",
    "print(generate_bigram_text(bigram_lm, 5))"
   ]
  },
  {
   "cell_type": "markdown",
   "metadata": {},
   "source": [
    "<a id=\"s143\"></a>\n",
    "\n",
    "<div class='exercise-r'> \n",
    "    \n",
    "**[1.4.3:](#q143)** **Interpret results**\n",
    "\n",
    "\n",
    "Reflect on your BigramLM's output. Please write 3-6 sentences, in total (not per bulleted point), about:\n",
    "1. its semantic and syntactic quality compared to the UnigramLM's output\n",
    "2. its expected sentence length compared to the training corpus\n",
    "3. explain one or two weaknesses with generating text with n-gram models\n",
    "</div>"
   ]
  },
  {
   "cell_type": "markdown",
   "metadata": {},
   "source": [
    "**INTERPRETATION:**"
   ]
  },
  {
   "cell_type": "markdown",
   "metadata": {},
   "source": [
    "YOUR ANSWER HERE"
   ]
  },
  {
   "cell_type": "markdown",
   "metadata": {},
   "source": [
    "<a id=\"s15\"></a>\n",
    "\n",
    "## **[1.5:](#q15)** **GPT-2**\n",
    "\n",
    "<br>\n",
    "<div class='exercise-r'>\n",
    "    \n",
    "In lecture, we learned about advanced LMs such as Transformers. Specifically, `GPT-2` is an autogressive LM that uses a Transformer Encoder and Transformer Decoder. It represents words as distributed, contextualized word embeddings. Using attention and self-attention, it's able to do a great job at modelling language. To see its power, let's use GPT-2 to model our Harry Potter corpus!\n",
    "\n",
    "As a reminder, `GPT-2` has been pre-trained on a _vast_ amount of text data (40 gbs). So, we will not train it on Harry Potter from scratch; we will simply __fine-tune__ it on Harry Potter Book #1 (`Book_1_The_Philosophers_Stone.txt`).\n",
    "</div>"
   ]
  },
  {
   "cell_type": "markdown",
   "metadata": {},
   "source": [
    "<a id=\"s151\"></a>\n",
    "\n",
    "<div class='exercise-r'> \n",
    "    \n",
    "**[1.5.1:](#q151)** **Load and create tokenizer for GPT-2**\n",
    "    \n",
    "Load `GPT-2` from `HuggingFace`'s libraries. Then, fine-tune it on our Harry Potter Book #1 (`Book_1_The_Philosophers_Stone.txt`).\n",
    "\n",
    "* Use `GPT2Tokenizer` to tokenize the input text\n",
    "* NOTE: In [GPT2Tokenizer](https://huggingface.co/transformers/model_doc/gpt2.html#gpt2tokenizer), use `distilgpt2` as the `vocab_file` argument.\n",
    "* Split the input text into into blocks of length **100**\n",
    "* Generate inputs and labels by by shifting the input by one position:\n",
    "    * For example if your tokens are [1,2,3,4,5] then your inputs will be: [1,2,3,4] and labels will be: [2,3,4,5]\n",
    " \n",
    "</div>\n"
   ]
  },
  {
   "cell_type": "code",
   "execution_count": 19,
   "metadata": {},
   "outputs": [
    {
     "name": "stderr",
     "output_type": "stream",
     "text": [
      "Token indices sequence length is longer than the specified maximum sequence length for this model (149887 > 1024). Running this sequence through the model will result in indexing errors\n"
     ]
    }
   ],
   "source": [
    "# YOUR CODE HERE\n",
    "\n",
    "# Load training text\n",
    "training_file = \"data/harry_potter/Book_1_The_Philosophers_Stone.txt\"\n",
    "with open(training_file) as file:\n",
    "    training_data = file.read()\n",
    "\n",
    "# Load tokenizer\n",
    "tokenizer = GPT2Tokenizer.from_pretrained(\"distilgpt2\")\n",
    "\n",
    "# Tokenize data for GPT2\n",
    "tokenized_text = tokenizer.encode(training_data)\n",
    "\n",
    "# Split into blocks\n",
    "training_chunks = []\n",
    "block_size = 100\n",
    "for i in range(0, len(tokenized_text) - block_size + 1, block_size):  # Truncate in block of block_size\n",
    "    training_chunks.append(tokenized_text[i:i + block_size])\n",
    "\n",
    "# Generate inputs and labels\n",
    "inputs, labels = [], []\n",
    "for ex in training_chunks:\n",
    "    inputs.append(ex[:-1])\n",
    "    labels.append(ex[1:])\n"
   ]
  },
  {
   "cell_type": "markdown",
   "metadata": {},
   "source": [
    "\n",
    "<a id=\"s152\"></a>\n",
    "\n",
    "<div class='exercise-r'> \n",
    "    \n",
    "**[1.5.2:](#q152)** **Prepare data for GPT-2**\n",
    "   \n",
    "* Create TF Datasets with your inputs and labels\n",
    "* Use a batch size of 12\n",
    "* When creating tf.data pipelines for training dataset. Follow this order when building the pipeline:\n",
    "  * Shuffle\n",
    "  * Batch\n",
    "  * Prefetch\n",
    "</div>"
   ]
  },
  {
   "cell_type": "code",
   "execution_count": 20,
   "metadata": {},
   "outputs": [
    {
     "name": "stdout",
     "output_type": "stream",
     "text": [
      "train_data <PrefetchDataset shapes: ((12, 99), (12, 99)), types: (tf.int32, tf.int32)>\n"
     ]
    }
   ],
   "source": [
    "\n",
    "BATCH_SIZE = 12\n",
    "TRAIN_SHUFFLE_BUFFER_SIZE = 10000\n",
    "\n",
    "# Create TF Dataset\n",
    "train_data = tf.data.Dataset.from_tensor_slices((inputs, labels))\n",
    "\n",
    "#############\n",
    "# Train data\n",
    "#############\n",
    "train_data = train_data.shuffle(buffer_size=TRAIN_SHUFFLE_BUFFER_SIZE)\n",
    "train_data = train_data.batch(BATCH_SIZE, drop_remainder=True)\n",
    "train_data = train_data.prefetch(buffer_size=AUTOTUNE)\n",
    "\n",
    "print(\"train_data\",train_data)"
   ]
  },
  {
   "cell_type": "markdown",
   "metadata": {},
   "source": [
    "<a id=\"s153\"></a>\n",
    "\n",
    "<div class='exercise-r'> \n",
    "    \n",
    "**[1.5.3:](#q153)** **Finetune GPT-2**\n",
    "\n",
    "* Build a model using `TFGPT2LMHeadModel` from the `transformers` package from Hugging Face\n",
    "* Load the pre-trained weights using `distilgpt2`\n",
    "</div>\n"
   ]
  },
  {
   "cell_type": "code",
   "execution_count": 21,
   "metadata": {},
   "outputs": [
    {
     "name": "stderr",
     "output_type": "stream",
     "text": [
      "All model checkpoint layers were used when initializing TFGPT2LMHeadModel.\n",
      "\n",
      "All the layers of TFGPT2LMHeadModel were initialized from the model checkpoint at distilgpt2.\n",
      "If your task is similar to the task the model of the checkpoint was trained on, you can already use TFGPT2LMHeadModel for predictions without further training.\n"
     ]
    },
    {
     "name": "stdout",
     "output_type": "stream",
     "text": [
      "Model: \"tfgp_t2lm_head_model\"\n",
      "_________________________________________________________________\n",
      "Layer (type)                 Output Shape              Param #   \n",
      "=================================================================\n",
      "transformer (TFGPT2MainLayer multiple                  81912576  \n",
      "=================================================================\n",
      "Total params: 81,912,576\n",
      "Trainable params: 81,912,576\n",
      "Non-trainable params: 0\n",
      "_________________________________________________________________\n",
      "None\n"
     ]
    }
   ],
   "source": [
    "# YOUR CODE HERE\n",
    "\n",
    "############################\n",
    "# Training Params\n",
    "############################\n",
    "learning_rate = 3e-5 \n",
    "epsilon=1e-08\n",
    "clipnorm=1.0\n",
    "epochs = 5 # Need ot run for 30-50 epochs to get good results\n",
    "\n",
    "# Free up memory\n",
    "K.clear_session()\n",
    "\n",
    "# Build the model\n",
    "model = TFGPT2LMHeadModel.from_pretrained(\"distilgpt2\")\n",
    "\n",
    "# Print the model architecture\n",
    "print(model.summary())"
   ]
  },
  {
   "cell_type": "markdown",
   "metadata": {},
   "source": [
    "\n",
    "<a id=\"s154\"></a>\n",
    "\n",
    "<div class='exercise-r'>\n",
    "    \n",
    "**[1.5.4:](#q154)** **GPT-2 - model training**\n",
    "    \n",
    "* Use the `Adam` optimizer with a `learning_rate = 3e-5`, epsilon = `1e-08` and clipnorm = `1.0`\n",
    "* Use the loss `SparseCategoricalCrossentropy(from_logits=True)`. The pretrained `distilgpt2` has `6` Transformer layers. When finetuning our language model we do not want to compute losses for each of these layers. So when setting the loss function remember to set `None` for all the transformer output layers. So we would need to pass in an array of loss functions to the `model.compile(...)` rather than just one.\n",
    "* Use the metrics `SparseCategoricalAccuracy('accuracy')`\n",
    "* Train the model for atleast 30 epochs. The more you train the better generated text you will see in the next question\n",
    "\n",
    "</div>"
   ]
  },
  {
   "cell_type": "code",
   "execution_count": 22,
   "metadata": {},
   "outputs": [
    {
     "name": "stdout",
     "output_type": "stream",
     "text": [
      "Epoch 1/5\n",
      "WARNING:tensorflow:The parameters `output_attentions`, `output_hidden_states` and `use_cache` cannot be updated when calling a model.They have to be set to True/False in the config object (i.e.: `config=XConfig.from_pretrained('name', output_attentions=True)`).\n",
      "WARNING:tensorflow:AutoGraph could not transform <bound method Socket.send of <zmq.sugar.socket.Socket object at 0x7f63c4e22880>> and will run it as-is.\n",
      "Please report this to the TensorFlow team. When filing the bug, set the verbosity to 10 (on Linux, `export AUTOGRAPH_VERBOSITY=10`) and attach the full output.\n",
      "Cause: module, class, method, function, traceback, frame, or code object was expected, got cython_function_or_method\n",
      "To silence this warning, decorate the function with @tf.autograph.experimental.do_not_convert\n",
      "WARNING: AutoGraph could not transform <bound method Socket.send of <zmq.sugar.socket.Socket object at 0x7f63c4e22880>> and will run it as-is.\n",
      "Please report this to the TensorFlow team. When filing the bug, set the verbosity to 10 (on Linux, `export AUTOGRAPH_VERBOSITY=10`) and attach the full output.\n",
      "Cause: module, class, method, function, traceback, frame, or code object was expected, got cython_function_or_method\n",
      "To silence this warning, decorate the function with @tf.autograph.experimental.do_not_convert\n",
      "WARNING:tensorflow:The parameter `return_dict` cannot be set in graph mode and will always be set to `True`.\n",
      "WARNING:tensorflow:The parameters `output_attentions`, `output_hidden_states` and `use_cache` cannot be updated when calling a model.They have to be set to True/False in the config object (i.e.: `config=XConfig.from_pretrained('name', output_attentions=True)`).\n",
      "WARNING:tensorflow:The parameter `return_dict` cannot be set in graph mode and will always be set to `True`.\n",
      "124/124 [==============================] - 40s 243ms/step - loss: 3.4353 - logits_loss: 3.4353 - logits_accuracy: 0.3753 - past_key_values_1_accuracy: 0.0014 - past_key_values_2_accuracy: 0.0012 - past_key_values_3_accuracy: 0.0024 - past_key_values_4_accuracy: 0.0020 - past_key_values_5_accuracy: 0.0011 - past_key_values_6_accuracy: 0.0018\n",
      "Epoch 2/5\n",
      "124/124 [==============================] - 31s 246ms/step - loss: 2.9167 - logits_loss: 2.9167 - logits_accuracy: 0.4377 - past_key_values_1_accuracy: 0.0013 - past_key_values_2_accuracy: 0.0011 - past_key_values_3_accuracy: 0.0023 - past_key_values_4_accuracy: 0.0020 - past_key_values_5_accuracy: 0.0011 - past_key_values_6_accuracy: 0.0017\n",
      "Epoch 3/5\n",
      "124/124 [==============================] - 30s 244ms/step - loss: 2.7676 - logits_loss: 2.7676 - logits_accuracy: 0.4558 - past_key_values_1_accuracy: 0.0014 - past_key_values_2_accuracy: 0.0011 - past_key_values_3_accuracy: 0.0024 - past_key_values_4_accuracy: 0.0019 - past_key_values_5_accuracy: 0.0011 - past_key_values_6_accuracy: 0.0017\n",
      "Epoch 4/5\n",
      "124/124 [==============================] - 30s 244ms/step - loss: 2.6718 - logits_loss: 2.6718 - logits_accuracy: 0.4689 - past_key_values_1_accuracy: 0.0014 - past_key_values_2_accuracy: 0.0010 - past_key_values_3_accuracy: 0.0025 - past_key_values_4_accuracy: 0.0018 - past_key_values_5_accuracy: 0.0010 - past_key_values_6_accuracy: 0.0017\n",
      "Epoch 5/5\n",
      "124/124 [==============================] - 30s 244ms/step - loss: 2.5851 - logits_loss: 2.5851 - logits_accuracy: 0.4806 - past_key_values_1_accuracy: 0.0014 - past_key_values_2_accuracy: 0.0011 - past_key_values_3_accuracy: 0.0026 - past_key_values_4_accuracy: 0.0018 - past_key_values_5_accuracy: 0.0010 - past_key_values_6_accuracy: 0.0016\n",
      "Training execution time (mins) 2.6816094557444257\n"
     ]
    }
   ],
   "source": [
    "# Optimizer\n",
    "optimizer = keras.optimizers.Adam(learning_rate=learning_rate, epsilon=epsilon, clipnorm=clipnorm)\n",
    "# Loss\n",
    "loss = keras.losses.SparseCategoricalCrossentropy(from_logits=True)\n",
    "metric = keras.metrics.SparseCategoricalAccuracy('accuracy')\n",
    "\n",
    "# Compile\n",
    "model.compile(loss=[loss, *[None] * model.config.n_layer],\n",
    "                  optimizer=optimizer,\n",
    "                  metrics=[metric])\n",
    "\n",
    "# Train model\n",
    "start_time = time.time()\n",
    "training_results = model.fit(\n",
    "        train_data,\n",
    "        epochs=epochs, \n",
    "        verbose=1)\n",
    "execution_time = (time.time() - start_time)/60.0\n",
    "print(\"Training execution time (mins)\",execution_time)"
   ]
  },
  {
   "cell_type": "markdown",
   "metadata": {},
   "source": [
    "<a id=\"s155\"></a>\n",
    "\n",
    "\n",
    "<div class='exercise-r'>  \n",
    "\n",
    "**[1.5.5:](#q155)** **Generate text with GPT-2**\n",
    "\n",
    "Now, using your GPT-2 model, generate 5 sentences of Harry Potter text!\n",
    "    \n",
    "* Use a prompt (2-3 words) and tokenize the words\n",
    "* Use the `model.generate(...)` function to generate output text\n",
    "* Here an example text generated from the finetuned GPT2 model\n",
    "    * `hufflepuff hates the slytherins.” “but what about you slytherin they hate me.” “oh they hate me!” said harry. “well i’ve got to go — i’ve got to go hogwarts!” “oh you are not going to be allowed goin’ around hogwarts is that funny professor — you know you can’t afford to go off to the bloody baron`\n",
    "    \n",
    "</div>"
   ]
  },
  {
   "cell_type": "code",
   "execution_count": 23,
   "metadata": {},
   "outputs": [
    {
     "name": "stderr",
     "output_type": "stream",
     "text": [
      "Setting `pad_token_id` to 50256 (first `eos_token_id`) to generate sequence\n"
     ]
    },
    {
     "name": "stdout",
     "output_type": "stream",
     "text": [
      "input_ids tf.Tensor([[   71 18137 49357 24702   262 49822   490  1040]], shape=(1, 8), dtype=int32)\n",
      "Generated text:\n",
      "hufflepuff hates the slytherins, \n",
      "but he’s not going to be able to get past \n",
      "the troll.” \n",
      "\n",
      "“I’m not going to be able to get past the troll,” said \n",
      "Harry. “I’m going to be able to get past the troll, and \n",
      "I’m going to be able to get past the troll, and I’m going to be able\n"
     ]
    }
   ],
   "source": [
    "# YOUR CODE HERE\n",
    "\n",
    "# Tokenize Input\n",
    "input_ids = tokenizer.encode('hufflepuff hates the slytherins', return_tensors='tf')\n",
    "print(\"input_ids\",input_ids)\n",
    "outputs = model.generate(input_ids, max_length=100,num_return_sequences=1)\n",
    "print(\"Generated text:\")\n",
    "print(tokenizer.decode(outputs[0], skip_special_tokens=True))"
   ]
  },
  {
   "cell_type": "markdown",
   "metadata": {},
   "source": [
    "<a id=\"s156\"></a>\n",
    "\n",
    "<div class='exercise-r'>\n",
    "    \n",
    "**[1.5.6:](#q156)** **Interpret results**\n",
    "    \n",
    "Reflect on your GPT-2's output. Please write 3-5 sentences, in total (not per bulleted point), about:\n",
    "1. its semantic and syntactic quality compared to the NGram LM's output\n",
    "2. weaknesses and strengths you see with the generated text\n",
    "</div>"
   ]
  },
  {
   "cell_type": "markdown",
   "metadata": {},
   "source": [
    "**INTERPRETATION:**"
   ]
  },
  {
   "cell_type": "markdown",
   "metadata": {},
   "source": [
    "*Your answer here*"
   ]
  },
  {
   "cell_type": "markdown",
   "metadata": {},
   "source": [
    "<a id=\"part2\"></a>\n",
    "    \n",
    "<!-- <div class=\"alert alert-block alert-danger\" style=\"color:black;background-color:#E7F4FA\"> -->\n",
    "\n",
    "# PART 2. Word Embeddings [10 pts]\n",
    "\n",
    "[Return to contents](#contents)"
   ]
  },
  {
   "cell_type": "markdown",
   "metadata": {},
   "source": [
    "<a id=\"part2intro\"></a>\n",
    "\n",
    "## Overview\n",
    "\n",
    "[Return to contents](#contents)\n",
    "    \n",
    "As we saw in lecture, computers have no inherit way of making sense of any text. NLP, at large, concerns this very process of trying to intelligently \"understand\" and make use of language. The representation of language, especially at the word-level, is incredibly connected to a model's ability to perform well on any task. With a poor representation, models may never be able to use the text data.\n",
    "\n",
    "Here, in Part 2, you will gain more hands-on experience working with and understanding word embeddings -- specifically, we will work with distributed, contextualized embeddings, which have been the de facto standard in NLP since 2013."
   ]
  },
  {
   "cell_type": "markdown",
   "metadata": {},
   "source": [
    "<a id=\"part2questions\"></a>\n",
    "\n",
    "## PART 2: Questions\n",
    "The goal of this task train a model to create a word2vec embedding using text from Harry Potter Books.\n",
    "\n",
    "[Return to contents](#contents)\n",
    "\n",
    "<a id=\"q21\"></a>\n",
    "\n",
    "<hr style=\"height:1pt\">\n",
    "\n",
    "**[2.1:](#s21)** **Build Word2Vec Embeddings**\n",
    "\n",
    "<a id=\"q211\"></a>\n",
    "\n",
    "**[2.1.1:](#s211)** **Load and preprocess Data**\n",
    "    \n",
    "For this section we will use Harry Potter Book #1 (`Book_1_The_Philosophers_Stone.txt`). You are welcome to train on more Harry Potter books. The more data you train with, the better your word embeddings will be.\n",
    "\n",
    "* Load text from book 1 `Book_1_The_Philosophers_Stone.txt`\n",
    "* Tokenize text using `nltk`'s word tokenizer, removing all punctuations\n",
    "* Remove stopwords\n",
    "* Use the provide helper function, `hw_utils.build_dataset(words, vocab_size)`, to generate sequential data. Your vocabulary size is the number of unique words types.\n",
    "\n",
    "\n",
    "<a id=\"q212\"></a>\n",
    "\n",
    "**[2.1.2:](#s212)** **Create a Skip Grams dataset**\n",
    "\n",
    "* Use the `skipgrams` function from tensorflow.keras to create the training dataset\n",
    "* Use `window_size` of 4\n",
    "* The output from `skipgrams` will consist of a word couples and labels. Split the couples into a target and context\n",
    "    * For example if the outputs from `skipgrams` are `couples:[[4, 8], [966, 334], [87, 5326], [452, 4139], [744, 1988]] labels: [1, 1, 0, 0, 0]`\n",
    "    * We need our training data in this format `target: [4, 966, 87, 452, 744], context: [8, 334, 5326, 4139, 1988], labels: [1, 1, 0, 0, 0]`\n",
    "\n",
    "\n",
    "<a id=\"q213\"></a> \n",
    "\n",
    "**[2.1.3:](#s213)** **Create a Skip Grams dataset**\n",
    "\n",
    "* Create TF Datasets with your target, context, and labels\n",
    "* Use a batch size of 1024\n",
    "* When creating `tf.data` pipelines for training dataset. Follow this order when building the pipeline:\n",
    "  * Shuffle\n",
    "  * Batch\n",
    "  * Prefetch\n",
    "  \n",
    " \n",
    "<a id=\"q214\"></a>\n",
    "    \n",
    "**[2.1.4:](#s214)** **Build & Train a Word2Vec Skip Gram Model**\n",
    "\n",
    "* Build a Word2Vec with an embedding dimension of **128**\n",
    "* Your model would require a word embedding and context embedding\n",
    "* Take the output from the word embedding and context embedding and perform a dot product\n",
    "* Use `sigmoid` for your output activation\n",
    "* Use `Adam` optimizer with `learning_rate = 0.01`\n",
    "* Use `binary_crossentropy` as the loss function\n",
    "* Use `accuracy` as the metrics\n",
    "* Train for 10 or more epochs\n",
    "\n",
    "<a id=\"q22\"></a>\n",
    "\n",
    "<hr style=\"height:1pt\">\n",
    "\n",
    "**[2.2:](#s22)** **Analyze Word2Vec**\n",
    "\n",
    "<a id=\"q221\"></a>\n",
    "\n",
    "**[2.2.1:](#s221)** **Pairwise Similarity**\n",
    "\n",
    "Let us analyze the trained word2vec embeddings\n",
    "    \n",
    "* From the trained model get the weights from the `word embedding` layer\n",
    "* Find the top `5` words similar to these words `'hogwarts','quidditch','dumbledore','gryffindor','hermione','hagrid'`\n",
    "* Use the util function provided `find_similar_words(...)`  to find similar words\n",
    " \n",
    "\n",
    "<a id=\"q222\"></a>\n",
    "**[2.2.2:](#s222)** **Interpret Similarity**\n",
    "* Discuss your thoughts on what similar words means for these embeddings\n",
    "\n",
    "<a id=\"q223\"></a>\n",
    "\n",
    "**[2.2.3:](#s223)** **Visualize Embeddings**\n",
    "\n",
    "* Get a list of similar words and embeddings by passing the whole `word_list = ['hogwarts','quidditch','dumbledore','gryffindor','hermione','hagrid']` to the `find_similar_words(...)` function\n",
    "* Use the given plotting code to plot and visualize your embeddings\n",
    "\n",
    "<a id=\"q224\"></a>\n",
    "\n",
    "**[2.2.4:](#s224)** **Interpret Embeddings**\n",
    "\n",
    "* What can you interpret from the the embeddings plotted in the plot above? How might you make the embeddings better?\n",
    "\n",
    "\n",
    "</div>"
   ]
  },
  {
   "cell_type": "markdown",
   "metadata": {},
   "source": [
    "<a id=\"part2solutions\"></a>\n",
    "\n",
    "## PART 2: Solutions\n",
    "\n",
    "[Return to contents](#contents)"
   ]
  },
  {
   "cell_type": "markdown",
   "metadata": {},
   "source": [
    "<a id=\"s21\"></a>\n",
    "\n",
    "### **[2.1:](#q21)** **Build Word2Vec Embeddings**\n",
    "\n",
    "\n"
   ]
  },
  {
   "cell_type": "markdown",
   "metadata": {},
   "source": [
    "<a id=\"s211\"></a>\n",
    "<div class='exercise'>  \n",
    "\n",
    "**[2.1.1:](#q211)** **Load and preprocess Data**\n",
    "    \n",
    "For this section we will use Harry Potter Book #1 (`Book_1_The_Philosophers_Stone.txt`). You are welcome to train on more Harry Potter books. The more data you train with, the better your word embeddings will be.\n",
    "\n",
    "* Load text from book 1 `Book_1_The_Philosophers_Stone.txt`\n",
    "* Tokenize text using `nltk`'s word tokenizer, removing all punctuations\n",
    "* Remove stopwords\n",
    "* Use the provide helper function, `hw_utils.build_dataset(words, vocab_size)` to generate sequential data. Your vocabulary size is the number of unique words types.\n",
    "\n",
    "</div>"
   ]
  },
  {
   "cell_type": "code",
   "execution_count": 24,
   "metadata": {},
   "outputs": [
    {
     "name": "stdout",
     "output_type": "stream",
     "text": [
      "words: ['boy', 'lived', 'mr', 'mrs', 'dursley', 'number', 'four', 'privet', 'drive', 'proud']\n",
      "vocab_size: 5936\n"
     ]
    }
   ],
   "source": [
    "# YOUR CODE HERE\n",
    "\n",
    "# Load training text\n",
    "training_file = \"data/harry_potter/Book_1_The_Philosophers_Stone.txt\"\n",
    "with open(training_file) as file:\n",
    "    training_data = file.read()\n",
    "\n",
    "# Get Word tokenizer & stop words from NLTK\n",
    "stop_words = set(stopwords.words('english')) \n",
    "tokenizer = RegexpTokenizer(r'\\w+')\n",
    "\n",
    "# Word Tokenize text\n",
    "words = tokenizer.tokenize(training_data)\n",
    "\n",
    "# Remove stop words\n",
    "words = [w.lower() for w in words if w.lower() not in stop_words]\n",
    "print(\"words:\",words[:10])\n",
    "\n",
    "# Vocab size\n",
    "vocab_size = len(set(words))+1\n",
    "print(\"vocab_size:\",vocab_size)\n",
    "\n",
    "# Use the helper function to convert the corpus to sequential data\n",
    "data, count, dictionary, reverse_dictionary = hw_utils.build_dataset(words,vocab_size)"
   ]
  },
  {
   "cell_type": "markdown",
   "metadata": {},
   "source": [
    "<a id=\"s212\"></a>\n",
    "<div class='exercise'>  \n",
    "\n",
    "**[2.1.2:](#q212)** **Create a Skip Grams dataset**\n",
    "\n",
    "* Use the `skipgrams` function from tensorflow.keras to create the training dataset\n",
    "* Use `window_size` of 4\n",
    "* The output from `skipgrams` will consist of a word couples and lables. Split the couples into a target and context\n",
    "    * For example if the outputs from `skipgrams` are `couples:[[4, 8], [966, 334], [87, 5326], [452, 4139], [744, 1988]] labels: [1, 1, 0, 0, 0]`\n",
    "    * We need our training data in this format `target: [4, 966, 87, 452, 744], context: [8, 334, 5326, 4139, 1988], labels: [1, 1, 0, 0, 0]`\n",
    "\n",
    "  \n",
    "</div>"
   ]
  },
  {
   "cell_type": "code",
   "execution_count": 25,
   "metadata": {},
   "outputs": [
    {
     "name": "stdout",
     "output_type": "stream",
     "text": [
      "couples [[517, 294], [1197, 842], [12, 982], [98, 2247], [330, 3660]]\n",
      "labels [0, 1, 1, 1, 0]\n",
      "targets [517, 1197, 12, 98, 330]\n",
      "contexts [294, 842, 982, 2247, 3660]\n"
     ]
    }
   ],
   "source": [
    "# YOUR CODE HERE\n",
    "\n",
    "# Parameters for our skipgram with negative sampling \n",
    "window_size = 4\n",
    "\n",
    "# We use the `skipgrams` function from tensorflow.keras\n",
    "# to build the training dataset\n",
    "couples, labels = keras.preprocessing.sequence.skipgrams(data, vocab_size, window_size=window_size)\n",
    "\n",
    "# Split the couples to target and context\n",
    "targets = []\n",
    "contexts = []\n",
    "for target_word, context_word in couples:\n",
    "    targets.append(target_word)\n",
    "    contexts.append(context_word)\n",
    "\n",
    "print(\"couples\",couples[:5])\n",
    "print(\"labels\",labels[:5])\n",
    "print(\"targets\",targets[:5])\n",
    "print(\"contexts\",contexts[:5])"
   ]
  },
  {
   "cell_type": "markdown",
   "metadata": {},
   "source": [
    "<a id=\"s213\"></a>\n",
    "<div class='exercise'>  \n",
    "\n",
    "**[2.1.3:](#q213)** **Create a Skip Grams dataset**\n",
    "\n",
    "* Create TF Datasets with your target, context and labels\n",
    "* Use a batch size of 1024\n",
    "* When creating tf.data pipelines for training dataset. Follow this order when building the pipeline:\n",
    "  * Shuffle\n",
    "  * Batch\n",
    "  * Prefetch\n",
    "\n",
    "</div>"
   ]
  },
  {
   "cell_type": "code",
   "execution_count": 26,
   "metadata": {},
   "outputs": [
    {
     "name": "stdout",
     "output_type": "stream",
     "text": [
      "train_data <PrefetchDataset shapes: (((None,), (None,)), (None,)), types: ((tf.int32, tf.int32), tf.int32)>\n"
     ]
    }
   ],
   "source": [
    "# YOUR CODE HERE\n",
    "\n",
    "BATCH_SIZE = 1024\n",
    "TRAIN_SHUFFLE_BUFFER_SIZE = 10000\n",
    "\n",
    "# Create TF Dataset\n",
    "train_data = tf.data.Dataset.from_tensor_slices(((targets, contexts), labels))\n",
    "\n",
    "#############\n",
    "# Train data\n",
    "#############\n",
    "train_data = train_data.shuffle(buffer_size=TRAIN_SHUFFLE_BUFFER_SIZE)\n",
    "train_data = train_data.batch(BATCH_SIZE)\n",
    "train_data = train_data.prefetch(buffer_size=AUTOTUNE)\n",
    "\n",
    "print(\"train_data\",train_data)"
   ]
  },
  {
   "cell_type": "markdown",
   "metadata": {},
   "source": [
    "<a id=\"s214\"></a>\n",
    "<div class='exercise'>  \n",
    "    \n",
    "**[2.1.4:](#q214)** **Build & Train a Word2Vec Skip Gram Model**\n",
    "\n",
    "* Build a Word2Vec with an embedding dimention of `128`\n",
    "* Your model would require a word embedding and context embedding\n",
    "* Take the output from the word embedding and context embedding and perform a dot product\n",
    "* Use `sigmoid` for your output activation\n",
    "* Use `Adam` optimizer with `learning_rate = 0.01`\n",
    "* Use `binary_crossentropy` as the loss function\n",
    "* Use `accuracy` as the metrics\n",
    "* Train for 10 or more epochs\n",
    "\n",
    "</div>"
   ]
  },
  {
   "cell_type": "code",
   "execution_count": 27,
   "metadata": {},
   "outputs": [],
   "source": [
    "# YOUR CODE HERE\n",
    "def build_word2vec_model(vocab_size, vector_dim):\n",
    "    \n",
    "    # Build the target word embedding\n",
    "    word_model = Sequential() \n",
    "    word_model.add(keras.layers.Embedding(vocab_size, vector_dim,input_length=1,name='embedding')) \n",
    "    word_model.add(keras.layers.Reshape((vector_dim, ))) \n",
    "\n",
    "    # Build the context word embedding\n",
    "    context_model = Sequential() \n",
    "    context_model.add(keras.layers.Embedding(vocab_size, vector_dim, input_length=1,name='context')) \n",
    "    context_model.add(keras.layers.Reshape((vector_dim,))) \n",
    "\n",
    "    # Take the dot product of the the target and context word\n",
    "    dot_product = keras.layers.dot([word_model.output, context_model.output], axes=1,\n",
    "                                   normalize=False,name='dotproduct') \n",
    "    dot_product = keras.layers.Dense(1,activation=\"sigmoid\")(dot_product) \n",
    "\n",
    "    # Complete word2vec model\n",
    "    model = Model(inputs=[word_model.input, context_model.input],outputs=dot_product)\n",
    "    \n",
    "    return model\n"
   ]
  },
  {
   "cell_type": "code",
   "execution_count": 28,
   "metadata": {},
   "outputs": [
    {
     "name": "stdout",
     "output_type": "stream",
     "text": [
      "Model: \"model\"\n",
      "__________________________________________________________________________________________________\n",
      "Layer (type)                    Output Shape         Param #     Connected to                     \n",
      "==================================================================================================\n",
      "embedding_input (InputLayer)    [(None, 1)]          0                                            \n",
      "__________________________________________________________________________________________________\n",
      "context_input (InputLayer)      [(None, 1)]          0                                            \n",
      "__________________________________________________________________________________________________\n",
      "embedding (Embedding)           (None, 1, 128)       759808      embedding_input[0][0]            \n",
      "__________________________________________________________________________________________________\n",
      "context (Embedding)             (None, 1, 128)       759808      context_input[0][0]              \n",
      "__________________________________________________________________________________________________\n",
      "reshape (Reshape)               (None, 128)          0           embedding[0][0]                  \n",
      "__________________________________________________________________________________________________\n",
      "reshape_1 (Reshape)             (None, 128)          0           context[0][0]                    \n",
      "__________________________________________________________________________________________________\n",
      "dotproduct (Dot)                (None, 1)            0           reshape[0][0]                    \n",
      "                                                                 reshape_1[0][0]                  \n",
      "__________________________________________________________________________________________________\n",
      "dense (Dense)                   (None, 1)            2           dotproduct[0][0]                 \n",
      "==================================================================================================\n",
      "Total params: 1,519,618\n",
      "Trainable params: 1,519,618\n",
      "Non-trainable params: 0\n",
      "__________________________________________________________________________________________________\n",
      "None\n",
      "Epoch 1/10\n",
      "686/686 [==============================] - 7s 9ms/step - loss: 0.5377 - accuracy: 0.7232\n",
      "Epoch 2/10\n",
      "686/686 [==============================] - 7s 10ms/step - loss: 0.3562 - accuracy: 0.8473\n",
      "Epoch 3/10\n",
      "686/686 [==============================] - 6s 9ms/step - loss: 0.2000 - accuracy: 0.9232\n",
      "Epoch 4/10\n",
      "686/686 [==============================] - 7s 10ms/step - loss: 0.1463 - accuracy: 0.9484\n",
      "Epoch 5/10\n",
      "686/686 [==============================] - 6s 9ms/step - loss: 0.1308 - accuracy: 0.9524\n",
      "Epoch 6/10\n",
      "686/686 [==============================] - 7s 10ms/step - loss: 0.1239 - accuracy: 0.9529\n",
      "Epoch 7/10\n",
      "686/686 [==============================] - 6s 9ms/step - loss: 0.1189 - accuracy: 0.9533\n",
      "Epoch 8/10\n",
      "686/686 [==============================] - 6s 9ms/step - loss: 0.1150 - accuracy: 0.9533\n",
      "Epoch 9/10\n",
      "686/686 [==============================] - 7s 10ms/step - loss: 0.1114 - accuracy: 0.9535\n",
      "Epoch 10/10\n",
      "686/686 [==============================] - 6s 9ms/step - loss: 0.1083 - accuracy: 0.9535\n",
      "Training execution time (mins) 1.1022805333137513\n"
     ]
    }
   ],
   "source": [
    "# YOUR CODE HERE\n",
    "\n",
    "############################\n",
    "# Training Params\n",
    "############################\n",
    "learning_rate = 0.01 \n",
    "epochs = 10\n",
    "vector_dim = 128\n",
    "\n",
    "# Free up memory\n",
    "K.clear_session()\n",
    "\n",
    "# Build the model\n",
    "model = build_word2vec_model(vocab_size, vector_dim)\n",
    "\n",
    "# Print the model architecture\n",
    "print(model.summary())\n",
    "\n",
    "# Optimizer\n",
    "optimizer = keras.optimizers.Adam(learning_rate=learning_rate)\n",
    "# Loss\n",
    "loss = keras.losses.binary_crossentropy\n",
    "\n",
    "# Compile\n",
    "model.compile(loss=loss,\n",
    "                  optimizer=optimizer,\n",
    "                  metrics=['accuracy'])\n",
    "\n",
    "# Train model\n",
    "start_time = time.time()\n",
    "training_results = model.fit(\n",
    "        train_data,\n",
    "        epochs=epochs, \n",
    "        verbose=1)\n",
    "execution_time = (time.time() - start_time)/60.0\n",
    "print(\"Training execution time (mins)\",execution_time)"
   ]
  },
  {
   "cell_type": "markdown",
   "metadata": {},
   "source": [
    "<a id=\"s22\"></a>\n",
    "\n",
    "### **[2.2:](#q22)** **Analyze Word2Vec**"
   ]
  },
  {
   "cell_type": "markdown",
   "metadata": {},
   "source": [
    "<a id=\"s221\"></a>\n",
    "<div class='exercise'>  \n",
    "\n",
    "**[2.2.1:](#q221)** **Pairwise Similarity**\n",
    "\n",
    "Let us analyse the trained word2vec embeddings\n",
    "    \n",
    "* From the trained model get the weights from the `word embedding` layer\n",
    "* Find the top `5` words similar to these words `'hogwarts','quidditch','dumbledore','gryffindor','hermione','hagrid'`\n",
    "* Use the function `find_similar_words(...)` provided to find similar words\n",
    "\n",
    "</div>"
   ]
  },
  {
   "cell_type": "code",
   "execution_count": 29,
   "metadata": {},
   "outputs": [],
   "source": [
    "# Code to find similar words\n",
    "def find_similar_words(sample_words, num_similar, weights, dictionary, reverse_dictionary):\n",
    "    embedding_clusters = []\n",
    "    word_clusters = []\n",
    "    for word in sample_words:\n",
    "        similarities = cosine_similarity(weights, weights[dictionary[word]].reshape(1, -1))\n",
    "        similar_words = [reverse_dictionary[x[0]] for x in np.argsort(similarities,axis=0)[-num_similar:]]\n",
    "        similar_embeds = weights[np.argsort(similarities,axis=0)[-num_similar:].flatten()]\n",
    "        embedding_clusters.append(similar_embeds)\n",
    "        word_clusters.append(similar_words)\n",
    "\n",
    "    return embedding_clusters, word_clusters"
   ]
  },
  {
   "cell_type": "code",
   "execution_count": 30,
   "metadata": {},
   "outputs": [
    {
     "name": "stdout",
     "output_type": "stream",
     "text": [
      "(5936, 128)\n",
      "<tf.Variable 'embedding/embeddings:0' shape=(5936, 128) dtype=float32, numpy=\n",
      "array([[-0.04584822, -0.02622049,  0.02291982, ..., -0.0497263 ,\n",
      "        -0.02582575, -0.04854127],\n",
      "       [-0.490992  , -0.09222549,  0.39925772, ..., -0.41684607,\n",
      "         0.31171888, -0.6488424 ],\n",
      "       [-0.21862875, -0.39336565,  0.9749192 , ..., -1.2786409 ,\n",
      "        -0.32117227,  0.1726712 ],\n",
      "       ...,\n",
      "       [ 0.30902937, -0.21909747, -0.5881618 , ...,  0.20180486,\n",
      "         0.26260993, -0.9352348 ],\n",
      "       [-0.4075702 , -1.4317523 ,  0.7866021 , ..., -1.1324153 ,\n",
      "         0.09084018, -0.6413974 ],\n",
      "       [-0.48288578,  0.0190011 ,  0.03882256, ..., -0.2959955 ,\n",
      "         0.7286131 , -0.34787416]], dtype=float32)>\n"
     ]
    }
   ],
   "source": [
    "# YOUR CODE HERE\n",
    "\n",
    "# Get word2vec embedding\n",
    "word2vec_embedding = model.get_layer('embedding').embeddings\n",
    "print(word2vec_embedding.shape)\n",
    "print(word2vec_embedding)"
   ]
  },
  {
   "cell_type": "code",
   "execution_count": 31,
   "metadata": {},
   "outputs": [
    {
     "name": "stdout",
     "output_type": "stream",
     "text": [
      "Words similar to: hogwarts \n",
      " [['bellowed', 'e', 'witchcraft', 'urgent', 'hogwarts']]\n",
      "Words similar to: quidditch \n",
      " [['team', 'serious', 'sinister', 'ashamed', 'quidditch']]\n",
      "Words similar to: dumbledore \n",
      " [['headmaster', 'considered', 'lace', 'faltered', 'dumbledore']]\n",
      "Words similar to: gryffindor \n",
      " [['produced', 'recorded', 'chose', 'named', 'gryffindor']]\n",
      "Words similar to: hermione \n",
      " [['greenhouses', 'pointy', 'timidly', 'desert', 'hermione']]\n",
      "Words similar to: hagrid \n",
      " [['oaf', 'deliverin', 'smatter', 'oooooh', 'hagrid']]\n"
     ]
    }
   ],
   "source": [
    "# YOUR CODE HERE\n",
    "\n",
    "# Get the embeddign layer weigths\n",
    "embedding_layer_weights = word2vec_embedding.numpy()\n",
    "\n",
    "word_list = ['hogwarts','quidditch','dumbledore','gryffindor','hermione','hagrid']\n",
    "\n",
    "for word in word_list:\n",
    "    similar_embeddings, similar_labels = find_similar_words([word],5, \n",
    "                                                            embedding_layer_weights, dictionary, reverse_dictionary)\n",
    "\n",
    "    print(\"Words similar to:\",word,\"\\n\",similar_labels)"
   ]
  },
  {
   "cell_type": "markdown",
   "metadata": {},
   "source": [
    "<a id=\"s222\"></a>\n",
    "<div class='exercise'>  \n",
    "    \n",
    "**[2.2.2:](#q222)** **Interpret Simialrity**\n",
    "\n",
    "* Discuss your thoughts on what similar words means for these embeddings\n",
    "\n",
    "</div>"
   ]
  },
  {
   "cell_type": "markdown",
   "metadata": {},
   "source": [
    "**INTERPRETATION:**"
   ]
  },
  {
   "cell_type": "markdown",
   "metadata": {},
   "source": [
    "*Your answer here*"
   ]
  },
  {
   "cell_type": "markdown",
   "metadata": {},
   "source": [
    "<a id=\"s223\"></a>\n",
    "<div class='exercise'>  \n",
    "\n",
    "**[2.2.3:](#q223)** **Visualize Embeddings**\n",
    "\n",
    "* Get a list of similar words and embeddgings by passing the whole `word_list = ['hogwarts','quidditch','dumbledore','gryffindor','hermione','hagrid']` to the `find_similar_words(...)` function\n",
    "* Use the given plotting code to plot and visualize your embeddings\n",
    "\n",
    "</div>"
   ]
  },
  {
   "cell_type": "code",
   "execution_count": 32,
   "metadata": {},
   "outputs": [],
   "source": [
    "# Code to plot clusters of similar words\n",
    "def tsne_plot_clusters(labels, embedding_clusters, word_clusters):\n",
    "    \"Creates and TSNE model and plots it\"\n",
    "    \n",
    "    embedding_clusters = np.array(embedding_clusters)\n",
    "    n, m, k = embedding_clusters.shape\n",
    "    tsne_model_en_2d = manifold.TSNE(perplexity=25, n_components=2, init='pca', n_iter=3500, random_state=32)\n",
    "    embeddings_en_2d = np.array(tsne_model_en_2d.fit_transform(embedding_clusters.reshape(n * m, k))).reshape(n, m, 2)\n",
    "\n",
    "    plt.figure(figsize=(20, 10))\n",
    "    colors = cm.rainbow(np.linspace(0, 1, len(labels)))\n",
    "    for label, embeddings, words, color in zip(labels, embeddings_en_2d, word_clusters, colors):\n",
    "        x = embeddings[:, 0]\n",
    "        y = embeddings[:, 1]\n",
    "        plt.scatter(x, y, color=color, alpha=0.7, label=label)\n",
    "        for i, word in enumerate(words):\n",
    "            plt.annotate(word, alpha=0.5, xy=(x[i], y[i]), xytext=(5, 2),\n",
    "                        textcoords='offset points', ha='right', va='bottom', size=10)\n",
    "    plt.legend(loc=4)\n",
    "    plt.title('Clusters of similar words')\n",
    "    plt.xlabel('TSNE Component1')\n",
    "    plt.ylabel('TSNE Component2')\n",
    "    plt.grid(True)\n",
    "    plt.show()"
   ]
  },
  {
   "cell_type": "code",
   "execution_count": 33,
   "metadata": {},
   "outputs": [
    {
     "data": {
      "image/png": "[encoded data removed]",
      "text/plain": [
       "<Figure size 1440x720 with 1 Axes>"
      ]
     },
     "metadata": {
      "needs_background": "light"
     },
     "output_type": "display_data"
    }
   ],
   "source": [
    "# YOUR CODE HERE\n",
    "\n",
    "word_list = ['hogwarts','quidditch','dumbledore','gryffindor','hermione','hagrid']\n",
    "embedding_clusters, word_clusters = find_similar_words(word_list, 20, \n",
    "                                                       embedding_layer_weights, dictionary, reverse_dictionary)\n",
    "\n",
    "tsne_plot_clusters(word_list, embedding_clusters, word_clusters)"
   ]
  },
  {
   "cell_type": "markdown",
   "metadata": {},
   "source": [
    "<a id=\"s224\"></a>\n",
    "<div class='exercise'>  \n",
    "\n",
    "**[2.2.4:](#q224)** **Interpret Embeddings**\n",
    "\n",
    "* What can you interpret from the the embeddings plotted in the plot above? How might you make the embeddings better?\n",
    "\n",
    "</div>"
   ]
  },
  {
   "cell_type": "markdown",
   "metadata": {},
   "source": [
    "**INTERPRETATION:**"
   ]
  },
  {
   "cell_type": "markdown",
   "metadata": {},
   "source": [
    "*Your answer here*"
   ]
  },
  {
   "cell_type": "markdown",
   "metadata": {},
   "source": [
    "<a id=\"part3\"></a>\n",
    "    \n",
    "<!-- <div class=\"alert alert-block alert-danger\" style=\"color:black;background-color:#E7F4FA\"> -->\n",
    "\n",
    "# PART 3. Text Classification [30 pts]\n",
    "\n",
    "[Return to contents](#contents)\n",
    "    "
   ]
  },
  {
   "cell_type": "markdown",
   "metadata": {},
   "source": [
    "<a id=\"part3intro\"></a>\n",
    "\n",
    "## Overview\n",
    "\n",
    "[Return to contents](#contents)\n",
    "    \n",
    "Throughout CS109A and CS109B, we have often modelled classification tasks. There is an infinite number of classification tasks that one could perform with text data, as there is no limit to the contents (and goals) of language. In fact, NLP has several sub-fields/ popular problems that are largely treated as classification tasks (e.g., sentiment analysis, natural language entailment, and generic 'text classification' like spam detection). Moreover, _nearly all_ NLP problems have at least some classification component.\n",
    "\n",
    "Here, in Part 3, you will gain experience with text classification by working on an actual real-world task that Chris Tanner encountered this past year:\n",
    "\n",
    "Medical research is produced at an astronomical rate ([a few thousand articles are published daily](https://www.ncbi.nlm.nih.gov/pmc/articles/PMC3191655/)). Thus, when embarking on a particular research study, conducting a proper literature search can be unwieldy and overwhelming. One typically provides very carefully crafted search terms, then has to sift through several thousand results. A doctor reads the **Abstracts** of thousands of these candidate papers. This process is referred to as a **Systematic Review**.\n",
    "\n",
    "Often times, the **Systematic Review** only yields a handful of useful research papers. It's akin to \"searching for a needle in a haystack\". The research papers that aren't of interest are considered `irrelevant`, and the potentially useful ones are considered `not irrelevant` (meaning, it will be read further and potentially used in the study). Clearly, this process of classifying papers for a particular research topic requires having expert-level knowledge of the research and medical domain. It's really important to not overlook useful papers. Oftentimes two doctors will read over the same exact list of thousands of abstracts, just to ensure no papers are overlooked.\n",
    "\n",
    "If the Systematic Review yields _many_ useful papers, then one might be able to conduct a **Meta Analysis**, allowing one to draw new insights and research conclusions from the myriad of independent, regionalized research through the world. So, one needs to be incredibly meticulous when reading through thousands of abstracts. Wouldn't it be great if NLP could assist in this task? Well, let's find out if it can!\n",
    "\n",
    "For Part 3, you will help implement a text classifier for the **Systematic Review** process. In this real-life situation, an infectious disease doctor is researching sexually transmitted infections (STIs) in women who have HIV and are living in sub-Saharan Africa. STIs like __gonorrhea__ and __chlamydia__ are under-treated in low-resource communities. Because there aren't affordable and accessible STI testing in the area, there isn't population-wide screen. So, doctors don't have a good understanding of the epidemiology and prevalence of STIs -- especially amongst women who have HIV, which carries extra, serious health risks.\n",
    "\n",
    "Let's build a text classifier to see if we can help find `not irrelevant` abstracts. We can train the model by providing many _already-annotated_ abstracts, where each abstract is labelled as being `irrelevant` or `not irrelevant`. At _test time_, let's see if your model can help \"suggest\" which papers to strongly consider."
   ]
  },
  {
   "cell_type": "markdown",
   "metadata": {},
   "source": [
    "<a id=\"part3questions\"></a>\n",
    "\n",
    "## PART 3: Questions\n",
    "The goal of this task is to use medical abstracts from the conference paper dataset and build/train a model to classify whether paper abstracts are irrelevant or not.\n",
    "\n",
    "[Return to contents](#contents)\n",
    "<hr/>\n",
    "<a id=\"q31\"></a>\n",
    "\n",
    "#### **[3.1:](#s31)** **Load and preprocess Data**\n",
    "\n",
    "<a id=\"q311\"></a>\n",
    "\n",
    "**[3.1.1:](#s311)** \n",
    "\n",
    "Download the dataset (code provided below). The dataset consists of 3 files: Load the files:\n",
    "- `review_78678_irrelevant.csv`\n",
    "- `review_78678_not_irrelevant_included.csv` and\n",
    "- `review_78678_not_irrelevant_excluded.csv`\n",
    "\n",
    "All of these three should be present inside `datasets/project_1/` \n",
    "\n",
    "<a id=\"q312\"></a>\n",
    "\n",
    "**[3.1.2:](#s312)** \n",
    "* All the 3 files have the same number of columns, we will be using just the `Abstract` column from all the files. \n",
    "* Load the data from all the files into 3 dataframes. Create a new column (in all 3 dataframes) called `target` and assign `0` to it for the data from file `review_78678_irrelevant.csv` and `1` for the other two files.\n",
    "\n",
    "<a id=\"q313\"></a>\n",
    "\n",
    "**[3.1.3:](#s313)** \n",
    "* Concatenate all the dataframes to one keep just the column `Abstract` and `target`. Apply `dropna()` on the dataframe.\n",
    "\n",
    "\n",
    "<a id=\"q32\"></a>\n",
    "<hr/> \n",
    "\n",
    "#### **[3.2:](#s32)** **Build Data pipelines**\n",
    "\n",
    "For this section we will be using the `tf.data` API to build a simple but efficient data pipeline. The `tf.data` API enables you to build complex input pipelines from simple to complex reusable pieces. [Reference](https://www.tensorflow.org/guide/data)\n",
    "\n",
    "<a id=\"q321\"></a>\n",
    "**[3.2.1:](#s321)** \n",
    "* Set the variables - VOCABULARY_SIZE to 15000, SEQUENCE_SIZE (pick appropriate value), and EMBEDDING_SIZE to 100. Use [TextVectorization](https://www.tensorflow.org/api_docs/python/tf/keras/layers/experimental/preprocessing/TextVectorization) class from keras to build a text vectorizer for the entire dataset (Abstracts). Use output sequence length as 256 and `standardize_text()` provided below. \n",
    "\n",
    "<a id=\"q321a\"></a>\n",
    "**[3.2.1a:](#s321a)** What parameter did you choose for sequence length ? Justify your choice. \n",
    "\n",
    "<a id=\"q322\"></a>\n",
    "**[3.2.2:](#s322)** \n",
    "* Use `TextVectorizer`'s `adapt()` method to generate vocabulary. Display vocabulary length.\n",
    "    \n",
    "\n",
    "<a id=\"q323\"></a>\n",
    "**[3.2.3:](#s323)** \n",
    "* Use `train_test_split()` to split the dataset, creating a validation set of size 20%.\n",
    "* Create TF Dataset. (**HINT:** use `tf.data.Dataset.from_tensor_slices`) \n",
    "\n",
    "\n",
    "<a id=\"q324\"></a>\n",
    "**[3.2.4:](#s324)** \n",
    "* Build tf.data pipelines for the training and validation dataset. Follow this order when building the pipeline:\n",
    "  * Shuffle (if necessary) \n",
    "  * Batch\n",
    "  * Map (Convert your text to vectors)\n",
    "  * Prefetch\n",
    "* We will use this data pipeline for Model FFNN and LSTM.\n",
    "\n",
    "<a id=\"q324b\"></a>\n",
    "**[3.2.4b:](#s324b)** Explain why you should shuffle the data and describe when you should not shuffle the data. \n",
    "\n",
    "\n",
    "<hr/>\n",
    "\n",
    "<a id=\"q33\"></a>\n",
    "#### **[3.3:](#s33)** **Model 1: Feed Forward Neural Network**\n",
    "\n",
    "<a id=\"q331\"></a>\n",
    "**[3.3.1:](#s331)** \n",
    "* The first model will be a simple Feed Forward Neural Network. When building a model ensure to give it a unique name since we will need this for comparing our results later. The model needs to have an Embedding layer followed by a Flatten layer and one or more Dense layers. \n",
    "\n",
    "\n",
    "<a id=\"q332\"></a>\n",
    "**[3.3.2:](#s332)** \n",
    "* Display model summary. \n",
    "* Train the model with the a `learning_rate = 0.003` and `epochs = 10`\n",
    "* The metric we want to monitor is `accuracy`.\n",
    "* When calling the `model.fit(...)` function make sure to get the training results. This can be done like `training_results = model.fit(...)`\n",
    "\n",
    "<a id=\"q332a\"></a>\n",
    "**[3.3.2a:](#s332a)** Name two reasons why using one-hot encoded vectors instead of using  the Embedding layer is not the way to go.\n",
    "\n",
    "\n",
    "\n",
    "<a id=\"q332b\"></a>\n",
    "**[3.3.2b:](#s332b)** Explain what the inputs and outputs of the `Embedding` layer are. Also comment on the dimension going in and what is coming out.\n",
    "\n",
    "\n",
    "\n",
    "<a id=\"q333\"></a>\n",
    "**[3.3.3:](#s333)** \n",
    "* Pass the training results to the `evaluate_save_model(model, validation_data, training_results, execution_time, learning_rate, epochs)`. This util function will plot your training history and save the model and metrics so we can compare all the models at the end.\n",
    "\n",
    "<hr/>\n",
    "\n",
    "\n",
    "<a id=\"q34\"></a>\n",
    "### **[3.4:](#s34)** **Model 2: LSTM**\n",
    "\n",
    "The next model will be a Bi directional LSTM.  When building a model ensure to give it a unique name since we will need this for comparing our results later. \n",
    "\n",
    "<a id=\"q341\"></a>\n",
    "**[3.4.1:](#s341)** \n",
    "* Add an `Embedding` layer in your model\n",
    "* The Embedding layer is followed by a Bidirectional LSTM\n",
    "* The Bidirectional LSTM layer (with 64 units) can be followed by a few Dense layers\n",
    "\n",
    "\n",
    "<a id=\"q342\"></a>\n",
    "**[3.4.2:](#s342)** \n",
    "* Display model summary.\n",
    "* Train the model with the a `learning_rate = 1e-4` and `epochs = 10`\n",
    "* The metric we want to monitor is `accuracy` \n",
    "* When calling the `model.fit(...)` function make sure to get the training results. This can be done like `training_results = model.fit(...)`\n",
    "\n",
    "\n",
    "<a id=\"q342a\"></a>\n",
    "**[3.4.2a:](#s342a)** How many parameters does Bidirectional layer have ? (Show us how did you calculate)\n",
    "\n",
    "<a id=\"q343\"></a>\n",
    "**[3.4.3:](#s343)** \n",
    "* Pass the training results to the `evaluate_save_model(model, validation_data, training_results, execution_time, learning_rate, epochs)`. This util function will plot your training history and save the model and metrics so we can compare all the models at the end.\n",
    "\n",
    "<hr/>\n",
    "\n",
    "<a id=\"q35\"></a>\n",
    "\n",
    "### **[3.5:](#s35)** **Build Data Pipelines for BERT**\n",
    "\n",
    "BERT requires the data to be tokenized in a specific way, for this you need to use the `BertTokenizer` from the `transformers` package from Hugging Face. Steps to prepare your dataset:\n",
    "\n",
    "<a id=\"q351\"></a>\n",
    "**[3.5.1:](#s351)** \n",
    "\n",
    "* Use `BertTokenizer` to tokenize the input text\n",
    "* [BertTokenizer](https://huggingface.co/transformers/model_doc/bert.html#berttokenizer), use `bert-base-uncased` as the `vocab_file` argument. Also set `do_lower_case=True`\n",
    "- When using `tokenizer.encode_plus(...)` set the `max_length` to a value suitable for the dataset. It would need to be `<=512`.\n",
    "- The output tokens from `tokenizer.encode_plus(...)` is a dictionary with the keys `'input_ids', 'token_type_ids', 'attention_mask'`\n",
    "\n",
    "<a id=\"q352\"></a>\n",
    "**[3.5.2:](#s352)**\n",
    "- Create TF Datasets using the tokenized results. When using `tf.data.Dataset.from_tensor_slices(...,...)` look out for the x values passed in. `BERT` requires 3 inputs `'input_ids', 'token_type_ids', 'attention_mask'` as a tuple.\n",
    "* Use a batch size of 32\n",
    "* Use train and validation shuffle buffer size equal to the number of data points in train and validation sets respectively\n",
    "* When creating tf.data pipelines for the training and validation dataset. Follow this order when building the pipeline:\n",
    "  * Shuffle (if necessary)\n",
    "  * Batch\n",
    "  * Prefetch\n",
    "\n",
    " \n",
    "<hr/>\n",
    "\n",
    "<a id=\"q36\"></a>\n",
    "### **[3.6:](#s36)** **Model 3: Finetune BERT**\n",
    "\n",
    "In this section we will finetune BERT for Sequence Classification\n",
    "\n",
    "<a id=\"q361\"></a>\n",
    "**[3.6.1:](#s361)** \n",
    "\n",
    "* Build a model using `TFBertForSequenceClassification` from the `transformers` package from Hugging Face\n",
    "* Load the pre-trained weights using `bert-base-uncased` make sure to set the `name` argument to a unique name since we will need this for comparing our results later\n",
    "\n",
    "<a id=\"q362\"></a>\n",
    "**[3.6.2:](#s362)** \n",
    "\n",
    "* Train the model with the a `learning_rate = 2e-5` and `epochs = 5`\n",
    "* The metrics we want to monitor is `accuracy`\n",
    "* When calling the `model.fit(...)` function make sure to get the training results. This can be done like `training_results = model.fit(...)`\n",
    "* Pass the training results to the `evaluate_save_model(model, validation_data, training_results, execution_time, learning_rate, epochs)`. This util function will plot your training history and save the model and metrics so we can compare all the models at the end.\n",
    "\n",
    "\n",
    "<a id=\"q362a\"></a>\n",
    "**[3.6.2a:](#s362a)** \n",
    "* How is BERT related (e.g., similar and different from) to the first Transformer (encoder + decoder) model that was introduced in the Attention is All you Need paper?\n",
    "\n",
    "\n",
    "<a id=\"q362b\"></a>\n",
    "**[3.6.2b:](#s362b)** What is the difference between attention and self-attention in the context of Transformer architecture?\n",
    "\n",
    " \n",
    "<hr/>\n",
    "\n",
    " <a id=\"q37\"></a>\n",
    "### **[3.7:](#s37)** **Compare all Models**\n",
    "\n",
    " \n",
    "<a id=\"q371\"></a>\n",
    "**[3.7.1:](#s371)**\n",
    "\n",
    " \n",
    "* Do you think accuracy is a good metric here, why or why not?\n",
    "* Create a \"confusion matrix\" that simply includes the False Positive, False Negative, True Positive, and True Negative counts.\n",
    "* Also report and interpret Precision and Recall.\n",
    "* Interpret the best F1 score reported with respect to the problem at hand.\n",
    "* Which one is most important metric for the doctor (aka researcher): precision, recall, or F1-score (and why)? HINT: see the problem description for Part 3.\n",
    "\n",
    " <hr/>\n",
    " "
   ]
  },
  {
   "cell_type": "markdown",
   "metadata": {},
   "source": [
    "<a id=\"part3solutions\"></a>\n",
    "\n",
    "## PART 3: Solutions\n",
    "\n",
    "[Return to contents](#contents)"
   ]
  },
  {
   "cell_type": "markdown",
   "metadata": {},
   "source": [
    "<a id=\"s31\"></a>\n",
    "\n",
    "### **[3.1:](#q31)** **Load and preprocess Data**\n"
   ]
  },
  {
   "cell_type": "markdown",
   "metadata": {},
   "source": [
    "<a id=\"s311\"></a>\n",
    "<div class='exercise'>  \n",
    "\n",
    "**[3.1.1:](#q311)** Download the dataset (code provided below). The dataset consists of 3 files, which you'll need to load: `review_78678_irrelevant.csv`, `review_78678_not_irrelevant_included.csv`, and `review_78678_not_irrelevant_excluded.csv` all of which should be present inside `datasets/project_1/` \n",
    "\n",
    "</div>"
   ]
  },
  {
   "cell_type": "code",
   "execution_count": 34,
   "metadata": {},
   "outputs": [
    {
     "name": "stdout",
     "output_type": "stream",
     "text": [
      "Download execution time (mins) 0.007123486200968424\n"
     ]
    }
   ],
   "source": [
    "# Run this cell to load all the data required for this part\n",
    "DATA_DIR = \"datasets\"\n",
    "start_time = time.time()\n",
    "hw_utils.download_file(\" https://cs109b-course-data.s3.amazonaws.com/project_1.zip\", base_path=\"datasets\", extract=True)\n",
    "execution_time = (time.time() - start_time)/60.0\n",
    "print(\"Download execution time (mins)\",execution_time)"
   ]
  },
  {
   "cell_type": "markdown",
   "metadata": {},
   "source": [
    "<div class=\"alert alert-success\" role=\"alert\">\n",
    "### Rubric for 3.1.1\n",
    "\n",
    "**Grading notes:**\n",
    "\n",
    "**rubric** 0 pts\n",
    "\n",
    "- [0] points - we provide the code \n",
    "   </div> "
   ]
  },
  {
   "cell_type": "markdown",
   "metadata": {},
   "source": [
    "<a id=\"s312\"></a>\n",
    "<div class='exercise'>  \n",
    "\n",
    "**[3.1.2:](#q312)** All 3 files have the same number of columns. We will be using just the **Abstract** column from all the files. Load the data from all the files into 3 dataframes. Create a new column (in all 3 dataframes) called target and assign 0 to it for the data from file `review_78678_irrelevant.csv` and 1 for the other two files.\n",
    "\n",
    "</div>"
   ]
  },
  {
   "cell_type": "code",
   "execution_count": 35,
   "metadata": {},
   "outputs": [],
   "source": [
    "# your code here\n",
    "\n",
    "# Read all the 3 files into dataframes\n",
    "r_78678_irr_df = pd.read_csv(os.path.join(DATA_DIR,'project_1','review_78678_irrelevant.csv'))\n",
    "r_78678_relevant_ex_df = pd.read_csv(os.path.join(DATA_DIR,'project_1','review_78678_not_irrelevant_excluded.csv'))\n",
    "r_78678_relevant_inc_df = pd.read_csv(os.path.join(DATA_DIR,'project_1','review_78678_not_irrelevant_included.csv'))\n",
    "\n",
    "# Set the target column values\n",
    "r_78678_irr_df['target'] = 0\n",
    "r_78678_relevant_ex_df['target'] = 1\n",
    "r_78678_relevant_inc_df['target'] = 1"
   ]
  },
  {
   "cell_type": "markdown",
   "metadata": {},
   "source": [
    "<div class=\"alert alert-success\" role=\"alert\">\n",
    "### Rubric for 3.1.2\n",
    "\n",
    "**Grading notes:**\n",
    "\n",
    "**rubric** 1 pts\n",
    "\n",
    "- [-1] if they didn't set the targets properly, two dataframes with target 1 and one dataframe = 1\n",
    "</div> "
   ]
  },
  {
   "cell_type": "markdown",
   "metadata": {},
   "source": [
    "<a id=\"s313\"></a>\n",
    "\n",
    "<div class='exercise'>  \n",
    "   \n",
    "**[3.1.3:](#q313)**  Concatenate all the dataframes into a single dataframe. Keep only the columns **Abstract** and **target**. Apply dropna() on the dataframe.\n",
    "\n",
    "</div>"
   ]
  },
  {
   "cell_type": "code",
   "execution_count": 36,
   "metadata": {},
   "outputs": [
    {
     "name": "stdout",
     "output_type": "stream",
     "text": [
      "Shape: (4318, 2)\n",
      "0    3774\n",
      "1     544\n",
      "Name: target, dtype: int64\n"
     ]
    },
    {
     "data": {
      "text/html": [
       "<div>\n",
       "<style scoped>\n",
       "    .dataframe tbody tr th:only-of-type {\n",
       "        vertical-align: middle;\n",
       "    }\n",
       "\n",
       "    .dataframe tbody tr th {\n",
       "        vertical-align: top;\n",
       "    }\n",
       "\n",
       "    .dataframe thead th {\n",
       "        text-align: right;\n",
       "    }\n",
       "</style>\n",
       "<table border=\"1\" class=\"dataframe\">\n",
       "  <thead>\n",
       "    <tr style=\"text-align: right;\">\n",
       "      <th></th>\n",
       "      <th>Abstract</th>\n",
       "      <th>target</th>\n",
       "    </tr>\n",
       "  </thead>\n",
       "  <tbody>\n",
       "    <tr>\n",
       "      <th>0</th>\n",
       "      <td>This study was carried out to know the prevale...</td>\n",
       "      <td>0</td>\n",
       "    </tr>\n",
       "    <tr>\n",
       "      <th>1</th>\n",
       "      <td>We attempted to determine the seropositivity o...</td>\n",
       "      <td>0</td>\n",
       "    </tr>\n",
       "    <tr>\n",
       "      <th>2</th>\n",
       "      <td>Human herpesvirus 8 (HHV-8) infection is commo...</td>\n",
       "      <td>0</td>\n",
       "    </tr>\n",
       "    <tr>\n",
       "      <th>3</th>\n",
       "      <td>338 women with age ranging from 15 to 69 years...</td>\n",
       "      <td>0</td>\n",
       "    </tr>\n",
       "    <tr>\n",
       "      <th>4</th>\n",
       "      <td>Antenatal screening and treatment for sexually...</td>\n",
       "      <td>0</td>\n",
       "    </tr>\n",
       "  </tbody>\n",
       "</table>\n",
       "</div>"
      ],
      "text/plain": [
       "                                            Abstract  target\n",
       "0  This study was carried out to know the prevale...       0\n",
       "1  We attempted to determine the seropositivity o...       0\n",
       "2  Human herpesvirus 8 (HHV-8) infection is commo...       0\n",
       "3  338 women with age ranging from 15 to 69 years...       0\n",
       "4  Antenatal screening and treatment for sexually...       0"
      ]
     },
     "execution_count": 36,
     "metadata": {},
     "output_type": "execute_result"
    }
   ],
   "source": [
    "# Combined all 3 dataframes\n",
    "all_data_df = pd.concat([r_78678_irr_df,r_78678_relevant_ex_df,r_78678_relevant_inc_df])\n",
    "# Drop NA\n",
    "all_data_df = all_data_df[['Abstract','target']].dropna()\n",
    "print(\"Shape:\",all_data_df.shape)\n",
    "print(all_data_df.target.value_counts())\n",
    "all_data_df.head()"
   ]
  },
  {
   "cell_type": "markdown",
   "metadata": {},
   "source": [
    "<div class=\"alert alert-success\" role=\"alert\">\n",
    "### Rubric for 3.1.3\n",
    "\n",
    "**Grading notes:**\n",
    "\n",
    "**rubric** 1 pts\n",
    "\n",
    "- [-0.5] if they didn't dropna\n",
    "- [-0.5] if they missed concating any dataframe \n",
    "</div> "
   ]
  },
  {
   "cell_type": "markdown",
   "metadata": {},
   "source": [
    "<a id=\"s32\"></a>\n",
    "\n",
    "### **[3.2:](#q32)** **Build Data Pipelines**\n"
   ]
  },
  {
   "cell_type": "markdown",
   "metadata": {},
   "source": [
    "<a id=\"s321\"></a>\n",
    "<div class='exercise'>  \n",
    "\n",
    "**[3.2.1:](#q321)**\n",
    "\n",
    "Set these variables as follow:\n",
    "\n",
    "* VOCABULARY_SIZE to 15000\n",
    "* SEQUENCE_SIZE (pick appropriate value), and\n",
    "* EMBEDDING_SIZE to 100.\n",
    "\n",
    "Use the `TextVectorization` class from Keras to build a text vectorizer for the entire dataset (Abstracts). Use an output sequence length of **256**, along with the `standardize_text()` function provided below.\n",
    "\n",
    "</div>\n",
    "\n",
    "\n",
    "\n",
    "\n"
   ]
  },
  {
   "cell_type": "code",
   "execution_count": 37,
   "metadata": {},
   "outputs": [],
   "source": [
    "# Standardize text util function\n",
    "def standardize_text(input_text):\n",
    "  # Convert to lowercase\n",
    "  lowercase = tf.strings.lower(input_text)\n",
    "  # Remove HTML tags\n",
    "  stripped_html = tf.strings.regex_replace(lowercase, \"<br />\", \" \")\n",
    "  return tf.strings.regex_replace(\n",
    "      stripped_html, \"[%s]\" % re.escape(string.punctuation), \"\"\n",
    "  )"
   ]
  },
  {
   "cell_type": "code",
   "execution_count": 38,
   "metadata": {},
   "outputs": [],
   "source": [
    "# your code here\n",
    "\n",
    "# Feature constraints\n",
    "VOCABULARY_SIZE = 15000\n",
    "SEQUENCE_SIZE = 256\n",
    "EMBEDDING_SIZE = 128 #100\n",
    "\n",
    "\n",
    "# Initialize Text Vectorizer\n",
    "text_vectorizer = TextVectorization(\n",
    "    standardize=standardize_text,\n",
    "    max_tokens=VOCABULARY_SIZE,\n",
    "    output_sequence_length=SEQUENCE_SIZE,\n",
    "    output_mode=\"int\",\n",
    ")"
   ]
  },
  {
   "cell_type": "markdown",
   "metadata": {},
   "source": [
    "<a id=\"s321a\"></a>\n",
    "<div class='exercise'>  \n",
    "\n",
    "**[3.2.1a:](#q321a)** What value did you choose for the _output_sequence_length_? Justify your choice. \n",
    "\n",
    "</div>"
   ]
  },
  {
   "cell_type": "markdown",
   "metadata": {},
   "source": [
    "*your answer here*\n",
    "\n",
    "Check length of words for abstracts, find median len words. "
   ]
  },
  {
   "cell_type": "markdown",
   "metadata": {},
   "source": [
    "<a id=\"s322\"></a>\n",
    "<div class='exercise'>  \n",
    "\n",
    "**[3.2.2:](#q322)** Use `TextVectorizer`'s `adapt()` method to generate vocabulary. Display vocabulary length.\n",
    "    \n",
    "</div>"
   ]
  },
  {
   "cell_type": "code",
   "execution_count": 39,
   "metadata": {},
   "outputs": [
    {
     "name": "stdout",
     "output_type": "stream",
     "text": [
      "Execution time (mins) 0.014808547496795655\n",
      "Vocabulary Size: 15000\n"
     ]
    }
   ],
   "source": [
    "\n",
    "# your code here\n",
    "data_x = all_data_df[\"Abstract\"].values\n",
    "data_y = all_data_df[\"target\"].values\n",
    "\n",
    "# Create the vocabulary of entire dataset\n",
    "text_data = tf.data.Dataset.from_tensor_slices(data_x)\n",
    "\n",
    "# Generate Text Vector\n",
    "start_time = time.time()\n",
    "text_vectorizer.adapt(text_data.batch(64))\n",
    "execution_time = (time.time() - start_time)/60.0\n",
    "print(\"Execution time (mins)\",execution_time)\n",
    "\n",
    "# Get Vocabulary\n",
    "vocabulary = text_vectorizer.get_vocabulary()\n",
    "vocabulary_size = len(vocabulary)\n",
    "print(\"Vocabulary Size:\",vocabulary_size)\n",
    "# Generate word index\n",
    "word_index = dict(zip(vocabulary, range(vocabulary_size)))"
   ]
  },
  {
   "cell_type": "markdown",
   "metadata": {},
   "source": [
    "\n",
    "<a id=\"s323\"></a>\n",
    "<div class='exercise'>  \n",
    "\n",
    "**[3.2.3:](#q323)**\n",
    "\n",
    "* Use `train_test_split()` to split the dataset, creating a validation set of size 20%.\n",
    "* Create TF Dataset. (**HINT:** use `tf.data.Dataset.from_tensor_slices`) \n",
    "\n",
    "</div>\n",
    "\n"
   ]
  },
  {
   "cell_type": "code",
   "execution_count": 40,
   "metadata": {},
   "outputs": [
    {
     "name": "stdout",
     "output_type": "stream",
     "text": [
      "train_x count: 3454\n",
      "validate_x count: 864\n"
     ]
    }
   ],
   "source": [
    "# your code here\n",
    "\n",
    "validation_percent = 0.20\n",
    "\n",
    "# Split data into train / validate\n",
    "train_x, validate_x, train_y, validate_y = train_test_split(data_x, data_y, test_size=validation_percent, stratify=data_y)\n",
    "\n",
    "print(\"train_x count:\",len(train_x))\n",
    "print(\"validate_x count:\",len(validate_x))"
   ]
  },
  {
   "cell_type": "code",
   "execution_count": 41,
   "metadata": {},
   "outputs": [],
   "source": [
    "# your code here\n",
    "\n",
    "BATCH_SIZE = 32\n",
    "TRAIN_SHUFFLE_BUFFER_SIZE = 3454\n",
    "# VALIDATION_SHUFFLE_BUFFER_SIZE = 864\n",
    "\n",
    "# Vectorize Text\n",
    "def vectorize_text(text, label=None):\n",
    "  text = tf.expand_dims(text, -1)\n",
    "  text = text_vectorizer(text)\n",
    "  if label is None:\n",
    "    return text\n",
    "  else:\n",
    "    return text, label\n",
    "\n",
    "# Create TF Dataset\n",
    "train_data = tf.data.Dataset.from_tensor_slices((train_x, train_y))\n",
    "validation_data = tf.data.Dataset.from_tensor_slices((validate_x, validate_y))\n"
   ]
  },
  {
   "cell_type": "code",
   "execution_count": null,
   "metadata": {},
   "outputs": [],
   "source": []
  },
  {
   "cell_type": "markdown",
   "metadata": {},
   "source": [
    "\n",
    "<a id=\"s324\"></a>\n",
    "<div class='exercise-r'>  \n",
    "\n",
    "**[3.2.4:](#q324)** Build tf.data pipelines for the training and validation dataset. Follow this order when building the pipeline:\n",
    "  * Shuffle (if necessary) \n",
    "  * Batch\n",
    "  * Map (Convert your text to vectors)\n",
    "  * Prefetch\n",
    "* We will use this data pipeline for Model FFNN and LSTM.\n",
    "\n",
    "\n",
    "</div>"
   ]
  },
  {
   "cell_type": "code",
   "execution_count": 42,
   "metadata": {},
   "outputs": [
    {
     "name": "stdout",
     "output_type": "stream",
     "text": [
      "train_data <PrefetchDataset shapes: ((None, 256), (None,)), types: (tf.int64, tf.int64)>\n",
      "validation_data <PrefetchDataset shapes: ((None, 256), (None,)), types: (tf.int64, tf.int64)>\n"
     ]
    }
   ],
   "source": [
    "\n",
    "#############\n",
    "# Train data\n",
    "#############\n",
    "train_data = train_data.shuffle(buffer_size=TRAIN_SHUFFLE_BUFFER_SIZE)\n",
    "train_data = train_data.batch(BATCH_SIZE)\n",
    "train_data = train_data.map(vectorize_text, num_parallel_calls=AUTOTUNE)\n",
    "train_data = train_data.prefetch(buffer_size=AUTOTUNE)\n",
    "\n",
    "##################\n",
    "# Validation data\n",
    "##################\n",
    "# validation_data = validation_data.shuffle(buffer_size=VALIDATION_SHUFFLE_BUFFER_SIZE)\n",
    "# Remove validation shuffle \n",
    "validation_data = validation_data.batch(BATCH_SIZE)\n",
    "validation_data = validation_data.map(vectorize_text, num_parallel_calls=AUTOTUNE)\n",
    "validation_data = validation_data.prefetch(buffer_size=AUTOTUNE)\n",
    "\n",
    "print(\"train_data\",train_data)\n",
    "print(\"validation_data\",validation_data)"
   ]
  },
  {
   "cell_type": "markdown",
   "metadata": {},
   "source": [
    "\n",
    "<a id=\"s324b\"></a>\n",
    "<div class='exercise-r'>  \n",
    "\n",
    "**[3.2.4b:](#q324b)** Explain why you should shuffle the data and describe when you should not shuffle the data. \n",
    "\n",
    "</div>"
   ]
  },
  {
   "cell_type": "markdown",
   "metadata": {},
   "source": [
    "We should not shuffle test set. Every time data is fetched from dataset, with shuffle on, the order is different. Ground truth and model.predict() predictions will be in different order if you shuffle test set. Here we are using validation as test set. "
   ]
  },
  {
   "cell_type": "markdown",
   "metadata": {},
   "source": [
    "<a id=\"s33\"></a>\n",
    "\n",
    "### **[3.3:](#q33)** **MODEL 1: Feed Forward Neural Network**\n",
    "\n"
   ]
  },
  {
   "cell_type": "markdown",
   "metadata": {},
   "source": [
    "<a id=\"s331\"></a>\n",
    "<div class='exercise-r'>  \n",
    "\n",
    "**[3.3.1:](#q331)** \n",
    "* The first model will be a simple Feed Forward Neural Network. When building a model ensure to give it a unique name since we will need this for comparing our results later. The model needs to have an Embedding layer followed by a Flatten layer and one or more Dense layers. \n",
    "\n",
    "</div>\n"
   ]
  },
  {
   "cell_type": "code",
   "execution_count": 43,
   "metadata": {},
   "outputs": [],
   "source": [
    "# your code here\n",
    "def build_ffnn():\n",
    "  # Set the model name as\n",
    "  model_name = 'ffnn_'+str(int(time.time()))\n",
    "\n",
    "  # Create a FFNN Model\n",
    "  model = tf.keras.models.Sequential(name=model_name)\n",
    "  model.add(tf.keras.Input(shape=(SEQUENCE_SIZE)))\n",
    "  model.add(tf.keras.layers.Embedding(input_dim=VOCABULARY_SIZE, output_dim=EMBEDDING_SIZE))\n",
    "  model.add(tf.keras.layers.Flatten())\n",
    "  model.add(tf.keras.layers.Dense(512, activation=\"relu\"))\n",
    "  model.add(tf.keras.layers.Dense(1,activation=\"sigmoid\"))\n",
    "\n",
    "  return model"
   ]
  },
  {
   "cell_type": "markdown",
   "metadata": {},
   "source": [
    "<a id=\"s332\"></a>\n",
    "<div class='exercise-r'>  \n",
    "\n",
    "**[3.3.2:](#s332)** \n",
    "* Display model summary. \n",
    "* Train the model with the a `learning_rate = 0.003` and `epochs = 10`\n",
    "* The metric we want to monitor is `accuracy`.\n",
    "* When calling the `model.fit(...)` function make sure to get the training results. This can be done like `training_results = model.fit(...)`\n",
    "   \n",
    "</div>"
   ]
  },
  {
   "cell_type": "code",
   "execution_count": 44,
   "metadata": {},
   "outputs": [
    {
     "name": "stdout",
     "output_type": "stream",
     "text": [
      "Model: \"ffnn_1616609782\"\n",
      "_________________________________________________________________\n",
      "Layer (type)                 Output Shape              Param #   \n",
      "=================================================================\n",
      "embedding (Embedding)        (None, 256, 128)          1920000   \n",
      "_________________________________________________________________\n",
      "flatten (Flatten)            (None, 32768)             0         \n",
      "_________________________________________________________________\n",
      "dense (Dense)                (None, 512)               16777728  \n",
      "_________________________________________________________________\n",
      "dense_1 (Dense)              (None, 1)                 513       \n",
      "=================================================================\n",
      "Total params: 18,698,241\n",
      "Trainable params: 18,698,241\n",
      "Non-trainable params: 0\n",
      "_________________________________________________________________\n",
      "None\n",
      "Epoch 1/10\n",
      "108/108 [==============================] - 3s 21ms/step - loss: 0.4027 - accuracy: 0.8516 - val_loss: 0.2474 - val_accuracy: 0.8935\n",
      "Epoch 2/10\n",
      "108/108 [==============================] - 2s 18ms/step - loss: 0.0233 - accuracy: 0.9969 - val_loss: 0.4590 - val_accuracy: 0.8924\n",
      "Epoch 3/10\n",
      "108/108 [==============================] - 2s 18ms/step - loss: 0.0012 - accuracy: 1.0000 - val_loss: 0.5020 - val_accuracy: 0.8924\n",
      "Epoch 4/10\n",
      "108/108 [==============================] - 2s 17ms/step - loss: 0.0015 - accuracy: 0.9990 - val_loss: 0.4845 - val_accuracy: 0.8912\n",
      "Epoch 5/10\n",
      "108/108 [==============================] - 2s 18ms/step - loss: 1.8220e-04 - accuracy: 0.9999 - val_loss: 0.4963 - val_accuracy: 0.8924\n",
      "Epoch 6/10\n",
      "108/108 [==============================] - 2s 18ms/step - loss: 5.6932e-04 - accuracy: 0.9995 - val_loss: 0.5068 - val_accuracy: 0.8912\n",
      "Epoch 7/10\n",
      "108/108 [==============================] - 2s 19ms/step - loss: 2.3072e-04 - accuracy: 0.9998 - val_loss: 0.5165 - val_accuracy: 0.8900\n",
      "Epoch 8/10\n",
      "108/108 [==============================] - 2s 18ms/step - loss: 7.5889e-04 - accuracy: 0.9998 - val_loss: 0.5257 - val_accuracy: 0.8900\n",
      "Epoch 9/10\n",
      "108/108 [==============================] - 2s 18ms/step - loss: 5.3176e-04 - accuracy: 0.9993 - val_loss: 0.5339 - val_accuracy: 0.8912\n",
      "Epoch 10/10\n",
      "108/108 [==============================] - 2s 18ms/step - loss: 6.7325e-04 - accuracy: 0.9991 - val_loss: 0.5417 - val_accuracy: 0.8912\n",
      "Training execution time (mins) 0.33974021673202515\n"
     ]
    }
   ],
   "source": [
    "############################\n",
    "# Training Params\n",
    "############################\n",
    "learning_rate = 0.003\n",
    "epochs = 10\n",
    "\n",
    "# Free up memory\n",
    "K.clear_session()\n",
    "\n",
    "# Build the model\n",
    "model = build_ffnn()\n",
    "\n",
    "# Print the model architecture\n",
    "print(model.summary())\n",
    "\n",
    "# Optimizer\n",
    "optimizer = keras.optimizers.Adam(lr=learning_rate)\n",
    "# Loss\n",
    "loss = keras.losses.binary_crossentropy\n",
    "\n",
    "# Compile\n",
    "model.compile(loss=loss,\n",
    "                  optimizer=optimizer,\n",
    "                  metrics=['accuracy'])\n",
    "\n",
    "# Train model\n",
    "start_time = time.time()\n",
    "training_results = model.fit(\n",
    "        train_data,\n",
    "        validation_data=validation_data,\n",
    "        epochs=epochs, \n",
    "        verbose=1)\n",
    "execution_time = (time.time() - start_time)/60.0\n",
    "print(\"Training execution time (mins)\",execution_time)\n",
    "\n"
   ]
  },
  {
   "cell_type": "markdown",
   "metadata": {},
   "source": [
    "<a id=\"s332a\"></a>\n",
    "<div class='exercise-r'>  \n",
    "\n",
    "**[3.3.2a:](#q332a)** Name two reasons why using one-hot encoded vectors instead of using  the Embedding layer is not the way to go\n",
    "\n",
    "</div>"
   ]
  },
  {
   "cell_type": "markdown",
   "metadata": {},
   "source": [
    "**INTERPRETATION:**"
   ]
  },
  {
   "cell_type": "markdown",
   "metadata": {},
   "source": [
    "*Your answer here*\n",
    "\n",
    "The Embedding layer can be understood as a lookup table that maps from integer indices (which stand for specific words) to dense vectors (their embeddings). Through this layer, we can transform meaningless input vectors, consisted of integers, into dense and meaningful vectors learnt by backpropagation.\n",
    "\t•\tFirstly, one-hot envoded vectors are sparse and require a lot more memory to store and process. Secondly, one-hot can only provide information about where the input word is in the vocabulary, which is essentially meaningless for the model.\n",
    "\t•\tthe input to an Embedding layer is a integer/token representing a word in the vocabulary. The output of the layer is a low-demensional vector. The output dimensional can be something like 128 for a word token. In this problem, the dimension going in is (256, ) and the dimension going out is (256, 128). "
   ]
  },
  {
   "cell_type": "markdown",
   "metadata": {},
   "source": [
    "<a id=\"s332b\"></a>\n",
    "<div class='exercise-r'>  \n",
    "\n",
    "**[3.3.2b:](#q332b)** Explain what the inputs and outputs of the `Embedding` layer are. Also comment on the dimension going in and what is coming out\n",
    "\n",
    "</div>"
   ]
  },
  {
   "cell_type": "markdown",
   "metadata": {},
   "source": [
    "**INTERPRETATION:**"
   ]
  },
  {
   "cell_type": "markdown",
   "metadata": {},
   "source": [
    "*Your answer here*"
   ]
  },
  {
   "cell_type": "markdown",
   "metadata": {},
   "source": [
    "<a id=\"s333\"></a>\n",
    "<div class='exercise-r'>  \n",
    "    \n",
    "**[3.3.3:](#q333)** \n",
    "* Pass the training results to the `evaluate_save_model(model, validation_data, training_results, execution_time, learning_rate, epochs)`. This util function will plot your training history and save the model and metrics so we can compare all the models at the end.\n",
    "    \n",
    "</div>"
   ]
  },
  {
   "cell_type": "code",
   "execution_count": 45,
   "metadata": {},
   "outputs": [
    {
     "name": "stdout",
     "output_type": "stream",
     "text": [
      "hello world\n"
     ]
    },
    {
     "data": {
      "image/png": "[encoded data removed]",
      "text/plain": [
       "<Figure size 1440x360 with 2 Axes>"
      ]
     },
     "metadata": {
      "needs_background": "light"
     },
     "output_type": "display_data"
    },
    {
     "name": "stdout",
     "output_type": "stream",
     "text": [
      "27/27 [==============================] - 0s 3ms/step - loss: 0.5417 - accuracy: 0.8912\n",
      "[0.5417180061340332, 0.8912037014961243, 0.3285714285714285]\n"
     ]
    }
   ],
   "source": [
    "\n",
    "hw_utils.evaluate_save_model(model, validation_data, training_results, execution_time, learning_rate, epochs)\n"
   ]
  },
  {
   "cell_type": "markdown",
   "metadata": {},
   "source": [
    "<a id=\"s34\"></a>\n",
    "<div class='exercise-r'>  \n",
    "\n",
    "### **[3.4:](#q34)** **MODEL 2: LSTM**\n",
    "\n",
    "</div>"
   ]
  },
  {
   "cell_type": "markdown",
   "metadata": {},
   "source": [
    "<a id=\"s341\"></a>\n",
    "<div class='exercise-r'>  \n",
    "\n",
    "**[3.4.1:](#s341)** \n",
    "* Add an `Embedding` layer in your model\n",
    "* The Embedding layer is followed by a Bidirectional LSTM\n",
    "* The Bidirectional LSTM layer (with 64 units) can be followed by a few Dense layers\n",
    "\n",
    "</div>"
   ]
  },
  {
   "cell_type": "code",
   "execution_count": 46,
   "metadata": {},
   "outputs": [],
   "source": [
    "# your code here\n",
    "\n",
    "def build_lstm():\n",
    "  # Set the model name as\n",
    "  model_name = 'lstm_'+str(int(time.time()))\n",
    "\n",
    "  # Create a LSTM Model\n",
    "  model = tf.keras.models.Sequential(name=model_name)\n",
    "  model.add(tf.keras.Input(shape=(SEQUENCE_SIZE)))\n",
    "  model.add(tf.keras.layers.Embedding(input_dim=VOCABULARY_SIZE, output_dim=EMBEDDING_SIZE))\n",
    "  model.add(tf.keras.layers.Bidirectional(tf.keras.layers.LSTM(units=64)))\n",
    "  model.add(tf.keras.layers.Dense(units=64, activation='relu'))\n",
    "  model.add(tf.keras.layers.Dense(units=1,activation='sigmoid'))\n",
    "\n",
    "  return model"
   ]
  },
  {
   "cell_type": "markdown",
   "metadata": {},
   "source": [
    "<a id=\"s342\"></a>\n",
    "<div class='exercise-r'>  \n",
    "\n",
    "**[3.4.2:](#s342)** \n",
    "* Display model summary.\n",
    "* Train the model with the a `learning_rate = 1e-4` and `epochs = 10`\n",
    "* The metric we want to monitor is `accuracy` \n",
    "* When calling the `model.fit(...)` function make sure to get the training results. This can be done like `training_results = model.fit(...)`\n",
    "\n",
    "</div>"
   ]
  },
  {
   "cell_type": "code",
   "execution_count": 47,
   "metadata": {
    "scrolled": true
   },
   "outputs": [
    {
     "name": "stdout",
     "output_type": "stream",
     "text": [
      "Model: \"lstm_1616609804\"\n",
      "_________________________________________________________________\n",
      "Layer (type)                 Output Shape              Param #   \n",
      "=================================================================\n",
      "embedding (Embedding)        (None, 256, 128)          1920000   \n",
      "_________________________________________________________________\n",
      "bidirectional (Bidirectional (None, 128)               98816     \n",
      "_________________________________________________________________\n",
      "dense (Dense)                (None, 64)                8256      \n",
      "_________________________________________________________________\n",
      "dense_1 (Dense)              (None, 1)                 65        \n",
      "=================================================================\n",
      "Total params: 2,027,137\n",
      "Trainable params: 2,027,137\n",
      "Non-trainable params: 0\n",
      "_________________________________________________________________\n",
      "None\n",
      "Epoch 1/10\n",
      "108/108 [==============================] - 8s 38ms/step - loss: 0.6455 - accuracy: 0.8145 - val_loss: 0.3764 - val_accuracy: 0.8738\n",
      "Epoch 2/10\n",
      "108/108 [==============================] - 3s 30ms/step - loss: 0.3788 - accuracy: 0.8678 - val_loss: 0.3028 - val_accuracy: 0.8738\n",
      "Epoch 3/10\n",
      "108/108 [==============================] - 3s 30ms/step - loss: 0.2443 - accuracy: 0.8820 - val_loss: 0.3489 - val_accuracy: 0.8738\n",
      "Epoch 4/10\n",
      "108/108 [==============================] - 3s 30ms/step - loss: 0.2405 - accuracy: 0.8707 - val_loss: 0.2871 - val_accuracy: 0.8738\n",
      "Epoch 5/10\n",
      "108/108 [==============================] - 3s 31ms/step - loss: 0.2203 - accuracy: 0.8866 - val_loss: 0.3543 - val_accuracy: 0.8831\n",
      "Epoch 6/10\n",
      "108/108 [==============================] - 3s 31ms/step - loss: 0.2138 - accuracy: 0.8923 - val_loss: 0.2946 - val_accuracy: 0.8900\n",
      "Epoch 7/10\n",
      "108/108 [==============================] - 3s 30ms/step - loss: 0.1861 - accuracy: 0.9123 - val_loss: 0.2958 - val_accuracy: 0.8900\n",
      "Epoch 8/10\n",
      "108/108 [==============================] - 3s 31ms/step - loss: 0.1590 - accuracy: 0.9325 - val_loss: 0.3326 - val_accuracy: 0.8704\n",
      "Epoch 9/10\n",
      "108/108 [==============================] - 3s 30ms/step - loss: 0.1033 - accuracy: 0.9683 - val_loss: 0.3623 - val_accuracy: 0.8947\n",
      "Epoch 10/10\n",
      "108/108 [==============================] - 3s 32ms/step - loss: 0.0977 - accuracy: 0.9703 - val_loss: 0.3783 - val_accuracy: 0.8993\n",
      "Training execution time (mins) 0.6357761065165202\n"
     ]
    }
   ],
   "source": [
    "############################\n",
    "# Training Params\n",
    "############################\n",
    "learning_rate = 1e-4\n",
    "epochs = 10\n",
    "\n",
    "# Free up memory\n",
    "K.clear_session()\n",
    "\n",
    "# Build the model\n",
    "model = build_lstm()\n",
    "\n",
    "# Print the model architecture\n",
    "print(model.summary())\n",
    "\n",
    "# Optimizer\n",
    "optimizer = keras.optimizers.Adam(lr=learning_rate)\n",
    "# Loss\n",
    "loss = keras.losses.binary_crossentropy\n",
    "\n",
    "# Compile\n",
    "model.compile(loss=loss,\n",
    "                  optimizer=optimizer,\n",
    "                  metrics=['accuracy'])\n",
    "\n",
    "# Train model\n",
    "start_time = time.time()\n",
    "training_results = model.fit(\n",
    "        train_data,\n",
    "        validation_data=validation_data,\n",
    "        epochs=epochs, \n",
    "        verbose=1)\n",
    "execution_time = (time.time() - start_time)/60.0\n",
    "print(\"Training execution time (mins)\",execution_time)\n"
   ]
  },
  {
   "cell_type": "code",
   "execution_count": null,
   "metadata": {},
   "outputs": [],
   "source": []
  },
  {
   "cell_type": "markdown",
   "metadata": {},
   "source": [
    "<a id=\"s342a\"></a>\n",
    "<div class='exercise-r'>  \n",
    "\n",
    "##### **[3.4.2a:](#q342a)** How many parameters does Bidirectional layer have ? (Show us how did you calculate)\n",
    "\n",
    "\n",
    "</div>"
   ]
  },
  {
   "cell_type": "markdown",
   "metadata": {},
   "source": [
    "**INTERPRETATION:**"
   ]
  },
  {
   "cell_type": "markdown",
   "metadata": {},
   "source": [
    "*Your answer here*\n",
    "\n",
    "((128 * 64) + (64 * 64) + 64) * 4 * 2 "
   ]
  },
  {
   "cell_type": "markdown",
   "metadata": {},
   "source": [
    "<a id=\"s343\"></a>\n",
    "<div class='exercise-r'>  \n",
    "    \n",
    "**[3.4.3:](#s343)** \n",
    "* Pass the training results to the `evaluate_save_model(model, validation_data, training_results, execution_time, learning_rate, epochs)`. This util function will plot your training history and save the model and metrics so we can compare all the models at the end.\n",
    "    \n",
    "</div>"
   ]
  },
  {
   "cell_type": "code",
   "execution_count": 48,
   "metadata": {
    "scrolled": false
   },
   "outputs": [
    {
     "name": "stdout",
     "output_type": "stream",
     "text": [
      "hello world\n"
     ]
    },
    {
     "data": {
      "image/png": "[encoded data removed]",
      "text/plain": [
       "<Figure size 1440x360 with 2 Axes>"
      ]
     },
     "metadata": {
      "needs_background": "light"
     },
     "output_type": "display_data"
    },
    {
     "name": "stdout",
     "output_type": "stream",
     "text": [
      "27/27 [==============================] - 0s 9ms/step - loss: 0.3783 - accuracy: 0.8993\n",
      "[0.3783474266529083, 0.8993055820465088, 0.44585987261146504]\n"
     ]
    }
   ],
   "source": [
    "\n",
    "hw_utils.evaluate_save_model(model, validation_data, training_results, execution_time, learning_rate, epochs)"
   ]
  },
  {
   "cell_type": "markdown",
   "metadata": {},
   "source": [
    "<a id=\"s35\"></a>\n",
    "<div class='exercise-r'>  \n",
    "\n",
    "### **[3.5:](#q35)** **Build Data Pipelines for BERT**\n",
    "\n",
    "</div>"
   ]
  },
  {
   "cell_type": "markdown",
   "metadata": {},
   "source": [
    "<a id=\"s351\"></a>\n",
    "<div class='exercise-r'> \n",
    "    \n",
    "**[3.5.1:](#q351)** \n",
    "\n",
    "* Use `BertTokenizer` to tokenize the input text\n",
    "* [BertTokenizer](https://huggingface.co/transformers/model_doc/bert.html#berttokenizer), use `bert-base-uncased` as the `vocab_file` argument. Also set `do_lower_case=True`\n",
    "- When using `tokenizer.encode_plus(...)` set the `max_length` to a value suitable for the dataset. It would need to be `<=512`.\n",
    "- The output tokens from `tokenizer.encode_plus(...)` is a dictionary with the keys `'input_ids', 'token_type_ids', 'attention_mask'`\n",
    "                                                                                                                       \n",
    "</div>"
   ]
  },
  {
   "cell_type": "code",
   "execution_count": 49,
   "metadata": {},
   "outputs": [],
   "source": [
    "# Tokenizer\n",
    "tokenizer=BertTokenizer.from_pretrained('bert-base-uncased',do_lower_case=True)"
   ]
  },
  {
   "cell_type": "code",
   "execution_count": 50,
   "metadata": {},
   "outputs": [
    {
     "name": "stdout",
     "output_type": "stream",
     "text": [
      "dict_keys(['input_ids', 'token_type_ids', 'attention_mask'])\n"
     ]
    }
   ],
   "source": [
    "# Feature constraints\n",
    "SEQUENCE_SIZE = 256\n",
    "\n",
    "# Train\n",
    "train_x_processed = tokenizer.batch_encode_plus(\n",
    "        train_x,\n",
    "        return_tensors='tf',\n",
    "        add_special_tokens = True, # add [CLS], [SEP]\n",
    "        return_token_type_ids=True,\n",
    "        padding='max_length',\n",
    "        max_length=SEQUENCE_SIZE,\n",
    "        return_attention_mask = True,\n",
    "        truncation='longest_first'\n",
    "    )\n",
    "\n",
    "# Validation\n",
    "validate_x_processed = tokenizer.batch_encode_plus(\n",
    "        validate_x,\n",
    "        return_tensors='tf',\n",
    "        add_special_tokens = True, # add [CLS], [SEP]\n",
    "        return_token_type_ids=True,\n",
    "        padding='max_length',\n",
    "        max_length=SEQUENCE_SIZE,\n",
    "        return_attention_mask = True,\n",
    "        truncation='longest_first'\n",
    "    )\n",
    "\n",
    "print(train_x_processed.keys())"
   ]
  },
  {
   "cell_type": "code",
   "execution_count": 51,
   "metadata": {},
   "outputs": [
    {
     "name": "stdout",
     "output_type": "stream",
     "text": [
      "train_x_processed shape: (3454, 256)\n",
      "validate_x_processed shape: (864, 256)\n",
      "First sample:\n",
      "input_ids: tf.Tensor([  101  4281  1024  2750 11343  1997  4621  3949  1998  1996], shape=(10,), dtype=int32)\n",
      "token_type_ids: tf.Tensor([0 0 0 0 0 0 0 0 0 0], shape=(10,), dtype=int32)\n",
      "attention_mask: tf.Tensor([1 1 1 1 1 1 1 1 1 1], shape=(10,), dtype=int32)\n",
      "Second sample:\n",
      "input_ids: tf.Tensor([ 101 1999 2289 1010 3053 6352 2692 2047 3572 1997], shape=(10,), dtype=int32)\n",
      "token_type_ids: tf.Tensor([0 0 0 0 0 0 0 0 0 0], shape=(10,), dtype=int32)\n",
      "attention_mask: tf.Tensor([1 1 1 1 1 1 1 1 1 1], shape=(10,), dtype=int32)\n"
     ]
    }
   ],
   "source": [
    "print(\"train_x_processed shape:\", train_x_processed[\"input_ids\"].shape)\n",
    "print(\"validate_x_processed shape:\", validate_x_processed[\"input_ids\"].shape)\n",
    "# First sample\n",
    "print(\"First sample:\")\n",
    "print(\"input_ids:\",train_x_processed[\"input_ids\"][0][:10])\n",
    "print(\"token_type_ids:\",train_x_processed[\"token_type_ids\"][0][:10])\n",
    "print(\"attention_mask:\",train_x_processed[\"attention_mask\"][0][:10])\n",
    "# Second sample\n",
    "print(\"Second sample:\")\n",
    "print(\"input_ids:\",train_x_processed[\"input_ids\"][1][:10])\n",
    "print(\"token_type_ids:\",train_x_processed[\"token_type_ids\"][1][:10])\n",
    "print(\"attention_mask:\",train_x_processed[\"attention_mask\"][1][:10])"
   ]
  },
  {
   "cell_type": "markdown",
   "metadata": {},
   "source": [
    "<a id=\"s352\"></a>\n",
    "<div class='exercise-r'> \n",
    "    \n",
    "**[3.5.2:](#q352)**\n",
    "- Create TF Datasets using the tokenized results. When using `tf.data.Dataset.from_tensor_slices(...,...)` look out for the x values passed in. `BERT` requires 3 inputs `'input_ids', 'token_type_ids', 'attention_mask'` as a tuple.\n",
    "* Use a batch size of 32\n",
    "* Use train and validation shuffle buffer size equal to the number of data points in train and validation sets respectively\n",
    "* When creating tf.data pipelines for the training and validation dataset. Follow this order when building the pipeline:\n",
    "  * Shuffle (if necessary)\n",
    "  * Batch\n",
    "  * Prefetch\n",
    "</div>\n"
   ]
  },
  {
   "cell_type": "code",
   "execution_count": 52,
   "metadata": {},
   "outputs": [
    {
     "name": "stdout",
     "output_type": "stream",
     "text": [
      "train_data <PrefetchDataset shapes: (((None, 256), (None, 256), (None, 256)), (None,)), types: ((tf.int32, tf.int32, tf.int32), tf.int64)>\n",
      "validation_data <PrefetchDataset shapes: (((None, 256), (None, 256), (None, 256)), (None,)), types: ((tf.int32, tf.int32, tf.int32), tf.int64)>\n"
     ]
    }
   ],
   "source": [
    "BATCH_SIZE = 32\n",
    "\n",
    "# Create TF Dataset\n",
    "train_data = tf.data.Dataset.from_tensor_slices(((train_x_processed[\"input_ids\"],\n",
    "                                                  train_x_processed[\"token_type_ids\"],\n",
    "                                                  train_x_processed[\"attention_mask\"]), train_y))\n",
    "validation_data = tf.data.Dataset.from_tensor_slices(((validate_x_processed[\"input_ids\"],\n",
    "                                                  validate_x_processed[\"token_type_ids\"],\n",
    "                                                  validate_x_processed[\"attention_mask\"]), validate_y))\n",
    "\n",
    "#############\n",
    "# Train data\n",
    "#############\n",
    "train_data = train_data.shuffle(buffer_size=TRAIN_SHUFFLE_BUFFER_SIZE)\n",
    "train_data = train_data.batch(BATCH_SIZE)\n",
    "train_data = train_data.prefetch(buffer_size=AUTOTUNE)\n",
    "\n",
    "##################\n",
    "# Validation data\n",
    "##################\n",
    "# validation_data = validation_data.shuffle(buffer_size=VALIDATION_SHUFFLE_BUFFER_SIZE)\n",
    "# Remove validation shuffle\n",
    "validation_data = validation_data.batch(BATCH_SIZE)\n",
    "validation_data = validation_data.prefetch(buffer_size=AUTOTUNE)\n",
    "\n",
    "print(\"train_data\",train_data)\n",
    "print(\"validation_data\",validation_data)"
   ]
  },
  {
   "cell_type": "markdown",
   "metadata": {},
   "source": [
    "<a id=\"s36\"></a>\n",
    "<div class='exercise-r'>  \n",
    "\n",
    "### **[3.6:](#q36)** **MODEL 3: Finetune BERT**\n",
    "\n",
    "</div>"
   ]
  },
  {
   "cell_type": "markdown",
   "metadata": {},
   "source": [
    "\n",
    "<a id=\"s361\"></a>\n",
    "\n",
    "<div class='exercise-r'> \n",
    "\n",
    "**[3.6.1:](#q361)** \n",
    "\n",
    "* Build a model using `TFBertForSequenceClassification` from the `transformers` package from Hugging Face\n",
    "* Load the pre-trained weights using `bert-base-uncased` make sure to set the `name` argument to a unique name since we will need this for comparing our results later\n",
    "\n",
    "</div>    \n",
    "    "
   ]
  },
  {
   "cell_type": "code",
   "execution_count": 53,
   "metadata": {},
   "outputs": [],
   "source": [
    "def build_pretrained_bert():\n",
    "  # Set the model name as\n",
    "  model_name = 'bert_'+str(int(time.time()))\n",
    "  model = TFBertForSequenceClassification.from_pretrained('bert-base-uncased',name=model_name)\n",
    "  return model"
   ]
  },
  {
   "cell_type": "markdown",
   "metadata": {},
   "source": [
    "<a id=\"s362\"></a>\n",
    "\n",
    "<div class='exercise-r'> \n",
    "    \n",
    "**[3.6.2:](#q362)** \n",
    "    \n",
    "    \n",
    "* Train the model with the a `learning_rate = 2e-5` and `epochs = 5`\n",
    "* The metrics we want to monitor is `accuracy`\n",
    "* When calling the `model.fit(...)` function make sure to get the training results. This can be done like `training_results = model.fit(...)`\n",
    "* Pass the training results to the `evaluate_save_model(model, validation_data, training_results, execution_time, learning_rate, epochs)`. This util function will plot your training history and save the model and metrics so we can compare all the models at the end."
   ]
  },
  {
   "cell_type": "code",
   "execution_count": 54,
   "metadata": {},
   "outputs": [
    {
     "name": "stderr",
     "output_type": "stream",
     "text": [
      "All model checkpoint layers were used when initializing TFBertForSequenceClassification.\n",
      "\n",
      "Some layers of TFBertForSequenceClassification were not initialized from the model checkpoint at bert-base-uncased and are newly initialized: ['classifier']\n",
      "You should probably TRAIN this model on a down-stream task to be able to use it for predictions and inference.\n"
     ]
    },
    {
     "name": "stdout",
     "output_type": "stream",
     "text": [
      "Model: \"bert_1616609866\"\n",
      "_________________________________________________________________\n",
      "Layer (type)                 Output Shape              Param #   \n",
      "=================================================================\n",
      "bert (TFBertMainLayer)       multiple                  109482240 \n",
      "_________________________________________________________________\n",
      "dropout_37 (Dropout)         multiple                  0         \n",
      "_________________________________________________________________\n",
      "classifier (Dense)           multiple                  1538      \n",
      "=================================================================\n",
      "Total params: 109,483,778\n",
      "Trainable params: 109,483,778\n",
      "Non-trainable params: 0\n",
      "_________________________________________________________________\n",
      "None\n",
      "Epoch 1/5\n",
      "WARNING:tensorflow:The parameters `output_attentions`, `output_hidden_states` and `use_cache` cannot be updated when calling a model.They have to be set to True/False in the config object (i.e.: `config=XConfig.from_pretrained('name', output_attentions=True)`).\n",
      "WARNING:tensorflow:The parameter `return_dict` cannot be set in graph mode and will always be set to `True`.\n",
      "WARNING:tensorflow:The parameters `output_attentions`, `output_hidden_states` and `use_cache` cannot be updated when calling a model.They have to be set to True/False in the config object (i.e.: `config=XConfig.from_pretrained('name', output_attentions=True)`).\n",
      "WARNING:tensorflow:The parameter `return_dict` cannot be set in graph mode and will always be set to `True`.\n",
      "108/108 [==============================] - ETA: 0s - loss: 0.3569 - accuracy: 0.8792WARNING:tensorflow:The parameters `output_attentions`, `output_hidden_states` and `use_cache` cannot be updated when calling a model.They have to be set to True/False in the config object (i.e.: `config=XConfig.from_pretrained('name', output_attentions=True)`).\n",
      "WARNING:tensorflow:The parameter `return_dict` cannot be set in graph mode and will always be set to `True`.\n",
      "108/108 [==============================] - 194s 2s/step - loss: 0.3567 - accuracy: 0.8791 - val_loss: 0.2859 - val_accuracy: 0.8854\n",
      "Epoch 2/5\n",
      "108/108 [==============================] - 183s 2s/step - loss: 0.2503 - accuracy: 0.8981 - val_loss: 0.2614 - val_accuracy: 0.9005\n",
      "Epoch 3/5\n",
      "108/108 [==============================] - 181s 2s/step - loss: 0.1888 - accuracy: 0.9296 - val_loss: 0.2105 - val_accuracy: 0.9271\n",
      "Epoch 4/5\n",
      "108/108 [==============================] - 183s 2s/step - loss: 0.0981 - accuracy: 0.9663 - val_loss: 0.2913 - val_accuracy: 0.9120\n",
      "Epoch 5/5\n",
      "108/108 [==============================] - 179s 2s/step - loss: 0.0580 - accuracy: 0.9825 - val_loss: 0.3082 - val_accuracy: 0.8981\n",
      "Training execution time (mins) 15.334722292423248\n",
      "hello world\n"
     ]
    },
    {
     "data": {
      "image/png": "[encoded data removed]",
      "text/plain": [
       "<Figure size 1440x360 with 2 Axes>"
      ]
     },
     "metadata": {
      "needs_background": "light"
     },
     "output_type": "display_data"
    },
    {
     "name": "stdout",
     "output_type": "stream",
     "text": [
      "27/27 [==============================] - 13s 498ms/step - loss: 0.3082 - accuracy: 0.8981\n",
      "WARNING:tensorflow:The parameters `output_attentions`, `output_hidden_states` and `use_cache` cannot be updated when calling a model.They have to be set to True/False in the config object (i.e.: `config=XConfig.from_pretrained('name', output_attentions=True)`).\n",
      "WARNING:tensorflow:The parameter `return_dict` cannot be set in graph mode and will always be set to `True`.\n",
      "[0.30821043252944946, 0.8981481194496155, 0.6507936507936508]\n"
     ]
    }
   ],
   "source": [
    "############################\n",
    "# Training Params\n",
    "############################\n",
    "learning_rate = 2e-5 \n",
    "epochs = 5\n",
    "\n",
    "# Free up memory\n",
    "K.clear_session()\n",
    "\n",
    "# Build the model\n",
    "model = build_pretrained_bert()\n",
    "\n",
    "# Print the model architecture\n",
    "print(model.summary())\n",
    "\n",
    "# Optimizer\n",
    "optimizer = keras.optimizers.Adam(lr=learning_rate, epsilon=1e-08)\n",
    "# Loss\n",
    "loss = keras.losses.SparseCategoricalCrossentropy(from_logits=True)\n",
    "metric = tf.keras.metrics.SparseCategoricalAccuracy('accuracy')\n",
    "\n",
    "# Compile\n",
    "model.compile(loss=loss,\n",
    "                  optimizer=optimizer,\n",
    "                  metrics=[metric])\n",
    "\n",
    "# Train model\n",
    "start_time = time.time()\n",
    "training_results = model.fit(\n",
    "        train_data,\n",
    "        validation_data=validation_data,\n",
    "        epochs=epochs,\n",
    "        verbose=1)\n",
    "execution_time = (time.time() - start_time)/60.0\n",
    "print(\"Training execution time (mins)\",execution_time)\n",
    "\n",
    "hw_utils.evaluate_save_model(model, validation_data, training_results, execution_time, learning_rate, epochs)\n"
   ]
  },
  {
   "cell_type": "markdown",
   "metadata": {},
   "source": [
    "<a id=\"s362a\"></a>\n",
    "<div class='exercise-r'>  \n",
    "\n",
    "##### **[3.6.2a:](#q362a)** How is BERT related (e.g., similar and different from) to the first Transformer (encoder + decoder) model that was introduced in the Attention is All you Need paper?\n",
    "\n",
    "</div>"
   ]
  },
  {
   "cell_type": "markdown",
   "metadata": {},
   "source": [
    "**INTERPRETATION:**"
   ]
  },
  {
   "cell_type": "markdown",
   "metadata": {},
   "source": [
    "*Your answer here*\n",
    "No decoder for BERT. "
   ]
  },
  {
   "cell_type": "markdown",
   "metadata": {},
   "source": [
    "<a id=\"s362b\"></a>\n",
    "<div class='exercise-r'>  \n",
    "\n",
    "##### **[3.6.2b:](#q362b)** What is the difference between attention and self-attention in the context of Transformer architecture?\n",
    "\n",
    "</div>"
   ]
  },
  {
   "cell_type": "markdown",
   "metadata": {},
   "source": [
    "**INTERPRETATION:**"
   ]
  },
  {
   "cell_type": "markdown",
   "metadata": {},
   "source": [
    "*Your answer here*"
   ]
  },
  {
   "cell_type": "markdown",
   "metadata": {},
   "source": [
    "<a id=\"s37\"></a>\n",
    "<div class='exercise-r'>  \n",
    "\n",
    "### **[3.7:](#q37)** **Compare all Models**\n",
    "\n",
    "</div>"
   ]
  },
  {
   "cell_type": "code",
   "execution_count": 55,
   "metadata": {},
   "outputs": [
    {
     "data": {
      "text/html": [
       "<div>\n",
       "<style scoped>\n",
       "    .dataframe tbody tr th:only-of-type {\n",
       "        vertical-align: middle;\n",
       "    }\n",
       "\n",
       "    .dataframe tbody tr th {\n",
       "        vertical-align: top;\n",
       "    }\n",
       "\n",
       "    .dataframe thead th {\n",
       "        text-align: right;\n",
       "    }\n",
       "</style>\n",
       "<table border=\"1\" class=\"dataframe\">\n",
       "  <thead>\n",
       "    <tr style=\"text-align: right;\">\n",
       "      <th></th>\n",
       "      <th>trainable_parameters</th>\n",
       "      <th>execution_time</th>\n",
       "      <th>loss</th>\n",
       "      <th>accuracy</th>\n",
       "      <th>f1_score</th>\n",
       "      <th>model_size</th>\n",
       "      <th>learning_rate</th>\n",
       "      <th>epochs</th>\n",
       "      <th>name</th>\n",
       "    </tr>\n",
       "  </thead>\n",
       "  <tbody>\n",
       "    <tr>\n",
       "      <th>3</th>\n",
       "      <td>109,483,778</td>\n",
       "      <td>15.20 mins</td>\n",
       "      <td>0.29</td>\n",
       "      <td>91.20%</td>\n",
       "      <td>0.66</td>\n",
       "      <td>438 MB</td>\n",
       "      <td>0.00002</td>\n",
       "      <td>5</td>\n",
       "      <td>bert_1616607274</td>\n",
       "    </tr>\n",
       "    <tr>\n",
       "      <th>5</th>\n",
       "      <td>109,483,778</td>\n",
       "      <td>15.33 mins</td>\n",
       "      <td>0.31</td>\n",
       "      <td>89.81%</td>\n",
       "      <td>0.65</td>\n",
       "      <td>438 MB</td>\n",
       "      <td>0.00002</td>\n",
       "      <td>5</td>\n",
       "      <td>bert_1616609866</td>\n",
       "    </tr>\n",
       "    <tr>\n",
       "      <th>2</th>\n",
       "      <td>2,027,137</td>\n",
       "      <td>0.64 mins</td>\n",
       "      <td>0.37</td>\n",
       "      <td>89.81%</td>\n",
       "      <td>0.56</td>\n",
       "      <td>8 MB</td>\n",
       "      <td>0.00010</td>\n",
       "      <td>10</td>\n",
       "      <td>lstm_1616607212</td>\n",
       "    </tr>\n",
       "    <tr>\n",
       "      <th>0</th>\n",
       "      <td>2,027,137</td>\n",
       "      <td>0.64 mins</td>\n",
       "      <td>0.38</td>\n",
       "      <td>89.93%</td>\n",
       "      <td>0.45</td>\n",
       "      <td>8 MB</td>\n",
       "      <td>0.00010</td>\n",
       "      <td>10</td>\n",
       "      <td>lstm_1616609804</td>\n",
       "    </tr>\n",
       "    <tr>\n",
       "      <th>1</th>\n",
       "      <td>18,698,241</td>\n",
       "      <td>0.35 mins</td>\n",
       "      <td>0.53</td>\n",
       "      <td>89.00%</td>\n",
       "      <td>0.42</td>\n",
       "      <td>75 MB</td>\n",
       "      <td>0.00300</td>\n",
       "      <td>10</td>\n",
       "      <td>ffnn_1616607189</td>\n",
       "    </tr>\n",
       "    <tr>\n",
       "      <th>4</th>\n",
       "      <td>18,698,241</td>\n",
       "      <td>0.34 mins</td>\n",
       "      <td>0.54</td>\n",
       "      <td>89.12%</td>\n",
       "      <td>0.33</td>\n",
       "      <td>75 MB</td>\n",
       "      <td>0.00300</td>\n",
       "      <td>10</td>\n",
       "      <td>ffnn_1616609782</td>\n",
       "    </tr>\n",
       "  </tbody>\n",
       "</table>\n",
       "</div>"
      ],
      "text/plain": [
       "  trainable_parameters execution_time  loss accuracy f1_score model_size  \\\n",
       "3          109,483,778     15.20 mins  0.29   91.20%     0.66     438 MB   \n",
       "5          109,483,778     15.33 mins  0.31   89.81%     0.65     438 MB   \n",
       "2            2,027,137      0.64 mins  0.37   89.81%     0.56       8 MB   \n",
       "0            2,027,137      0.64 mins  0.38   89.93%     0.45       8 MB   \n",
       "1           18,698,241      0.35 mins  0.53   89.00%     0.42      75 MB   \n",
       "4           18,698,241      0.34 mins  0.54   89.12%     0.33      75 MB   \n",
       "\n",
       "   learning_rate  epochs             name  \n",
       "3        0.00002       5  bert_1616607274  \n",
       "5        0.00002       5  bert_1616609866  \n",
       "2        0.00010      10  lstm_1616607212  \n",
       "0        0.00010      10  lstm_1616609804  \n",
       "1        0.00300      10  ffnn_1616607189  \n",
       "4        0.00300      10  ffnn_1616609782  "
      ]
     },
     "execution_count": 55,
     "metadata": {},
     "output_type": "execute_result"
    }
   ],
   "source": [
    "models_store_path = \"models\"\n",
    "\n",
    "models_metrics_list = glob(models_store_path+\"/*_metrics.json\")\n",
    "\n",
    "all_models_metrics = []\n",
    "for mm_file in models_metrics_list:\n",
    "  with open(mm_file) as json_file:\n",
    "    model_metrics = json.load(json_file)\n",
    "    all_models_metrics.append(model_metrics)\n",
    "\n",
    "# Load metrics to dataframe\n",
    "view_metrics = pd.DataFrame(data=all_models_metrics)\n",
    "\n",
    "# Format columns\n",
    "view_metrics['accuracy'] = view_metrics['accuracy']*100\n",
    "view_metrics['accuracy'] = view_metrics['accuracy'].map('{:,.2f}%'.format)\n",
    "\n",
    "view_metrics['trainable_parameters'] = view_metrics['trainable_parameters'].map('{:,.0f}'.format)\n",
    "view_metrics['execution_time'] = view_metrics['execution_time'].map('{:,.2f} mins'.format)\n",
    "view_metrics['loss'] = view_metrics['loss'].map('{:,.2f}'.format)\n",
    "view_metrics['f1_score'] = view_metrics['f1_score'].map('{:,.2f}'.format)\n",
    "view_metrics['model_size'] = view_metrics['model_size']/1000000\n",
    "view_metrics['model_size'] = view_metrics['model_size'].map('{:,.0f} MB'.format)\n",
    "\n",
    "# Filter columns\n",
    "view_metrics = view_metrics[[\"trainable_parameters\",\"execution_time\",\"loss\",\"accuracy\",\"f1_score\",\"model_size\",\"learning_rate\",\"epochs\",\"name\"]]\n",
    "\n",
    "view_metrics = view_metrics.sort_values(by=['f1_score'],ascending=False)\n",
    "view_metrics.head(10)"
   ]
  },
  {
   "cell_type": "markdown",
   "metadata": {},
   "source": [
    "*Your answer here*"
   ]
  },
  {
   "cell_type": "markdown",
   "metadata": {},
   "source": [
    "<a id=\"s371\"></a>\n",
    "<div class='exercise'>  \n",
    "\n",
    "**[3.7.1:](#q371)**\n",
    "\n",
    "* Do you think accuracy is a good metric here, why or why not?\n",
    "* Create a \"confusion matrix\" that simply includes the False Positive, False Negative, True Positive, and True Negative counts.\n",
    "* Also report and interpret Precision and Recall.\n",
    "* Interpret the best F1 score reported with respect to the problem at hand.\n",
    "* Which one is most important metric for the doctor (aka researcher): precision, recall, or F1-score (and why)? HINT: see the problem description for Part 3.\n",
    "\n",
    "</div>\n",
    "\n"
   ]
  },
  {
   "cell_type": "markdown",
   "metadata": {},
   "source": [
    "**INTERPRETATION:**"
   ]
  },
  {
   "cell_type": "markdown",
   "metadata": {},
   "source": [
    "*Your answer here*"
   ]
  },
  {
   "cell_type": "code",
   "execution_count": null,
   "metadata": {},
   "outputs": [],
   "source": [
    "#predictions from model\n",
    "preds = model.predict(validation_data)\n",
    "\n",
    "#actual classes based on predictions\n",
    "preds_classes = np.argmax(preds['logits'],axis=1)\n",
    "\n",
    "#ground truth\n",
    "ytrue = np.concatenate([y for x, y in validation_data], axis=0)  \n",
    "\n",
    "#ground truth class ratio\n",
    "print(\"\\n\\nGround truth class ratio:\\n\", pd.Series(ytrue).value_counts(),\"\\n\\n\" , pd.Series(ytrue).value_counts(normalize=True))\n",
    "\n",
    "#confusion matrix \n",
    "tn, fp, fn, tp = confusion_matrix(ytrue, preds_classes).ravel()\n",
    "print(\"\\n\\ntn, fp, fn, tp: \", tn, fp, fn, tp)\n",
    "print(\"\\n\\nConfusion matrix:\\n\", confusion_matrix(ytrue, preds_classes))\n",
    "\n",
    "#accuracy \n",
    "print(\"\\n\\nAccuracy: \", (tp+tn)/(tp + fp + fn + tn))\n",
    "\n",
    "#Precision\n",
    "precision = tp/(tp+fp)\n",
    "print(\"\\n\\nPrecision:\", precision)\n",
    "\n",
    "#Recall\n",
    "recall =  tp/(tp+fn)\n",
    "print(\"\\n\\nRecall:\",recall) \n",
    "\n",
    "#f1score\n",
    "print(\"\\n\\nF1-Score:\",f1_score(ytrue,preds_classes)) #(2*precision*recall)/(precision+recall)"
   ]
  },
  {
   "cell_type": "markdown",
   "metadata": {},
   "source": [
    "This is imbalanced class problem, we see that class imbalance ratio is ~87%/13%. Accuracy is not a good metric here, even if we predict all 0s (no model required) we can get accuracy of 87%. \n",
    "\n",
    "\n",
    "F1-Score is a better metric for imbalanced classification problems. Note that F1 score provided above is only for positive class i.e (class label=1). If we predict all zeros, f1 score will also be zero. The higher the f1-score the better (max value 1).\n",
    "\n",
    "Recall is the most important metric for researcher. Researcher wants to correctly classify as many papers `not irrelevant` abstracts correctly. Recall is calculated as tp/(tp+fn), In this case our model is only able to classify 57 abstracts correctly out of 109 total `not irrelevant` medical abstracts. "
   ]
  },
  {
   "cell_type": "code",
   "execution_count": null,
   "metadata": {},
   "outputs": [],
   "source": []
  }
 ],
 "metadata": {
  "anaconda-cloud": {},
  "kernelspec": {
   "display_name": "Python 3",
   "language": "python",
   "name": "python3"
  },
  "language_info": {
   "codemirror_mode": {
    "name": "ipython",
    "version": 3
   },
   "file_extension": ".py",
   "mimetype": "text/x-python",
   "name": "python",
   "nbconvert_exporter": "python",
   "pygments_lexer": "ipython3",
   "version": "3.8.3"
  }
 },
 "nbformat": 4,
 "nbformat_minor": 2
}
